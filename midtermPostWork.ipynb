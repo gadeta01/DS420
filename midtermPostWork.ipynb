{
 "cells": [
  {
   "cell_type": "markdown",
   "metadata": {},
   "source": [
    "## Will this animal be adopted? \n",
    "\n",
    "Data source: \n",
    "https://www.kaggle.com/aaronschlegel/austin-animal-center-shelter-outcomes-and/data\n",
    "\n",
    "Classification: This report classifies whether an animal is returned to a home or not. Specifically looking at the outcome_type column. The outcome types of Adoption, Return to Owner, and Rto-Adopt count as a successful adoption. The remaining outcomes are considered not to be adoption. "
   ]
  },
  {
   "cell_type": "code",
   "execution_count": 2,
   "metadata": {},
   "outputs": [],
   "source": [
    "import pandas as pd \n",
    "import numpy as np #numerical python \n",
    "from matplotlib import pyplot as plt #primary plotting library\n",
    "import seaborn as sns\n",
    "from sklearn.preprocessing import LabelEncoder\n",
    "# from sklearn.pipeline import Pipeline \n",
    "from sklearn.model_selection import train_test_split\n",
    "from sklearn.cluster import KMeans\n",
    "from sklearn.metrics import accuracy_score, confusion_matrix, classification_report, roc_auc_score\n",
    "from sklearn.linear_model import LinearRegression, LogisticRegression\n",
    "from sklearn.svm import SVC, LinearSVC \n",
    "from sklearn.preprocessing import StandardScaler\n",
    "from sklearn.naive_bayes import GaussianNB\n",
    "from sklearn.decomposition import PCA\n",
    "from sklearn.tree import DecisionTreeClassifier"
   ]
  },
  {
   "cell_type": "code",
   "execution_count": 3,
   "metadata": {},
   "outputs": [],
   "source": [
    "data = pd.read_csv(\"aac_shelter_outcomes.csv\")"
   ]
  },
  {
   "cell_type": "markdown",
   "metadata": {},
   "source": [
    "## General Explorations"
   ]
  },
  {
   "cell_type": "code",
   "execution_count": 4,
   "metadata": {},
   "outputs": [
    {
     "data": {
      "text/html": [
       "<div>\n",
       "<style scoped>\n",
       "    .dataframe tbody tr th:only-of-type {\n",
       "        vertical-align: middle;\n",
       "    }\n",
       "\n",
       "    .dataframe tbody tr th {\n",
       "        vertical-align: top;\n",
       "    }\n",
       "\n",
       "    .dataframe thead th {\n",
       "        text-align: right;\n",
       "    }\n",
       "</style>\n",
       "<table border=\"1\" class=\"dataframe\">\n",
       "  <thead>\n",
       "    <tr style=\"text-align: right;\">\n",
       "      <th></th>\n",
       "      <th>age_upon_outcome</th>\n",
       "      <th>animal_id</th>\n",
       "      <th>animal_type</th>\n",
       "      <th>breed</th>\n",
       "      <th>color</th>\n",
       "      <th>date_of_birth</th>\n",
       "      <th>datetime</th>\n",
       "      <th>monthyear</th>\n",
       "      <th>name</th>\n",
       "      <th>outcome_subtype</th>\n",
       "      <th>outcome_type</th>\n",
       "      <th>sex_upon_outcome</th>\n",
       "    </tr>\n",
       "  </thead>\n",
       "  <tbody>\n",
       "    <tr>\n",
       "      <th>0</th>\n",
       "      <td>2 weeks</td>\n",
       "      <td>A684346</td>\n",
       "      <td>Cat</td>\n",
       "      <td>Domestic Shorthair Mix</td>\n",
       "      <td>Orange Tabby</td>\n",
       "      <td>2014-07-07T00:00:00</td>\n",
       "      <td>2014-07-22T16:04:00</td>\n",
       "      <td>2014-07-22T16:04:00</td>\n",
       "      <td>NaN</td>\n",
       "      <td>Partner</td>\n",
       "      <td>Transfer</td>\n",
       "      <td>Intact Male</td>\n",
       "    </tr>\n",
       "    <tr>\n",
       "      <th>1</th>\n",
       "      <td>1 year</td>\n",
       "      <td>A666430</td>\n",
       "      <td>Dog</td>\n",
       "      <td>Beagle Mix</td>\n",
       "      <td>White/Brown</td>\n",
       "      <td>2012-11-06T00:00:00</td>\n",
       "      <td>2013-11-07T11:47:00</td>\n",
       "      <td>2013-11-07T11:47:00</td>\n",
       "      <td>Lucy</td>\n",
       "      <td>Partner</td>\n",
       "      <td>Transfer</td>\n",
       "      <td>Spayed Female</td>\n",
       "    </tr>\n",
       "    <tr>\n",
       "      <th>2</th>\n",
       "      <td>1 year</td>\n",
       "      <td>A675708</td>\n",
       "      <td>Dog</td>\n",
       "      <td>Pit Bull</td>\n",
       "      <td>Blue/White</td>\n",
       "      <td>2013-03-31T00:00:00</td>\n",
       "      <td>2014-06-03T14:20:00</td>\n",
       "      <td>2014-06-03T14:20:00</td>\n",
       "      <td>*Johnny</td>\n",
       "      <td>NaN</td>\n",
       "      <td>Adoption</td>\n",
       "      <td>Neutered Male</td>\n",
       "    </tr>\n",
       "    <tr>\n",
       "      <th>3</th>\n",
       "      <td>9 years</td>\n",
       "      <td>A680386</td>\n",
       "      <td>Dog</td>\n",
       "      <td>Miniature Schnauzer Mix</td>\n",
       "      <td>White</td>\n",
       "      <td>2005-06-02T00:00:00</td>\n",
       "      <td>2014-06-15T15:50:00</td>\n",
       "      <td>2014-06-15T15:50:00</td>\n",
       "      <td>Monday</td>\n",
       "      <td>Partner</td>\n",
       "      <td>Transfer</td>\n",
       "      <td>Neutered Male</td>\n",
       "    </tr>\n",
       "    <tr>\n",
       "      <th>4</th>\n",
       "      <td>5 months</td>\n",
       "      <td>A683115</td>\n",
       "      <td>Other</td>\n",
       "      <td>Bat Mix</td>\n",
       "      <td>Brown</td>\n",
       "      <td>2014-01-07T00:00:00</td>\n",
       "      <td>2014-07-07T14:04:00</td>\n",
       "      <td>2014-07-07T14:04:00</td>\n",
       "      <td>NaN</td>\n",
       "      <td>Rabies Risk</td>\n",
       "      <td>Euthanasia</td>\n",
       "      <td>Unknown</td>\n",
       "    </tr>\n",
       "    <tr>\n",
       "      <th>5</th>\n",
       "      <td>4 months</td>\n",
       "      <td>A664462</td>\n",
       "      <td>Dog</td>\n",
       "      <td>Leonberger Mix</td>\n",
       "      <td>Brown/White</td>\n",
       "      <td>2013-06-03T00:00:00</td>\n",
       "      <td>2013-10-07T13:06:00</td>\n",
       "      <td>2013-10-07T13:06:00</td>\n",
       "      <td>*Edgar</td>\n",
       "      <td>Partner</td>\n",
       "      <td>Transfer</td>\n",
       "      <td>Intact Male</td>\n",
       "    </tr>\n",
       "  </tbody>\n",
       "</table>\n",
       "</div>"
      ],
      "text/plain": [
       "  age_upon_outcome animal_id animal_type                    breed  \\\n",
       "0          2 weeks   A684346         Cat   Domestic Shorthair Mix   \n",
       "1           1 year   A666430         Dog               Beagle Mix   \n",
       "2           1 year   A675708         Dog                 Pit Bull   \n",
       "3          9 years   A680386         Dog  Miniature Schnauzer Mix   \n",
       "4         5 months   A683115       Other                  Bat Mix   \n",
       "5         4 months   A664462         Dog           Leonberger Mix   \n",
       "\n",
       "          color        date_of_birth             datetime  \\\n",
       "0  Orange Tabby  2014-07-07T00:00:00  2014-07-22T16:04:00   \n",
       "1   White/Brown  2012-11-06T00:00:00  2013-11-07T11:47:00   \n",
       "2    Blue/White  2013-03-31T00:00:00  2014-06-03T14:20:00   \n",
       "3         White  2005-06-02T00:00:00  2014-06-15T15:50:00   \n",
       "4         Brown  2014-01-07T00:00:00  2014-07-07T14:04:00   \n",
       "5   Brown/White  2013-06-03T00:00:00  2013-10-07T13:06:00   \n",
       "\n",
       "             monthyear     name outcome_subtype outcome_type sex_upon_outcome  \n",
       "0  2014-07-22T16:04:00      NaN         Partner     Transfer      Intact Male  \n",
       "1  2013-11-07T11:47:00     Lucy         Partner     Transfer    Spayed Female  \n",
       "2  2014-06-03T14:20:00  *Johnny             NaN     Adoption    Neutered Male  \n",
       "3  2014-06-15T15:50:00   Monday         Partner     Transfer    Neutered Male  \n",
       "4  2014-07-07T14:04:00      NaN     Rabies Risk   Euthanasia          Unknown  \n",
       "5  2013-10-07T13:06:00   *Edgar         Partner     Transfer      Intact Male  "
      ]
     },
     "execution_count": 4,
     "metadata": {},
     "output_type": "execute_result"
    }
   ],
   "source": [
    "data.head(6)"
   ]
  },
  {
   "cell_type": "code",
   "execution_count": 5,
   "metadata": {},
   "outputs": [
    {
     "data": {
      "text/plain": [
       "Index(['age_upon_outcome', 'animal_id', 'animal_type', 'breed', 'color',\n",
       "       'date_of_birth', 'datetime', 'monthyear', 'name', 'outcome_subtype',\n",
       "       'outcome_type', 'sex_upon_outcome'],\n",
       "      dtype='object')"
      ]
     },
     "execution_count": 5,
     "metadata": {},
     "output_type": "execute_result"
    }
   ],
   "source": [
    "data.columns\n"
   ]
  },
  {
   "cell_type": "code",
   "execution_count": 6,
   "metadata": {},
   "outputs": [
    {
     "data": {
      "text/plain": [
       "78256"
      ]
     },
     "execution_count": 6,
     "metadata": {},
     "output_type": "execute_result"
    }
   ],
   "source": [
    "len(data)"
   ]
  },
  {
   "cell_type": "markdown",
   "metadata": {},
   "source": [
    "#### There are 12 columns and 78,256 rows. \n",
    "\n",
    "#### 'age_upon_outcome', 'animal_id', 'animal_type', 'breed', 'color', 'date_of_birth', 'datetime', 'monthyear', 'name', 'outcome_subtype', 'outcome_type', 'sex_upon_outcome'"
   ]
  },
  {
   "cell_type": "code",
   "execution_count": 7,
   "metadata": {},
   "outputs": [
    {
     "data": {
      "text/plain": [
       "60557"
      ]
     },
     "execution_count": 7,
     "metadata": {},
     "output_type": "execute_result"
    }
   ],
   "source": [
    "len(data[data.isnull().any(axis=1)])"
   ]
  },
  {
   "cell_type": "markdown",
   "metadata": {},
   "source": [
    "There are 60,557 rows with one null entry. "
   ]
  },
  {
   "cell_type": "markdown",
   "metadata": {},
   "source": [
    "## Review each Column "
   ]
  },
  {
   "cell_type": "markdown",
   "metadata": {},
   "source": [
    "### age_upon_outcome"
   ]
  },
  {
   "cell_type": "markdown",
   "metadata": {},
   "source": [
    "#### Explorations"
   ]
  },
  {
   "cell_type": "code",
   "execution_count": 8,
   "metadata": {},
   "outputs": [
    {
     "data": {
      "text/plain": [
       "array(['2 weeks', '1 year', '9 years', '5 months', '4 months', '3 years',\n",
       "       '1 month', '3 months', '2 years', '2 months', '4 years', '8 years',\n",
       "       '3 weeks', '8 months', '12 years', '7 years', '5 years', '6 years',\n",
       "       '5 days', '10 months', '4 weeks', '10 years', '2 days', '6 months',\n",
       "       '14 years', '11 months', '15 years', '7 months', '13 years',\n",
       "       '11 years', '16 years', '9 months', '3 days', '6 days', '4 days',\n",
       "       '5 weeks', '1 week', '1 day', '1 weeks', '0 years', '17 years',\n",
       "       '20 years', '18 years', '19 years', '22 years', '25 years', nan],\n",
       "      dtype=object)"
      ]
     },
     "execution_count": 8,
     "metadata": {},
     "output_type": "execute_result"
    }
   ],
   "source": [
    "data.age_upon_outcome.unique()"
   ]
  },
  {
   "cell_type": "code",
   "execution_count": 9,
   "metadata": {},
   "outputs": [
    {
     "data": {
      "text/plain": [
       "47"
      ]
     },
     "execution_count": 9,
     "metadata": {},
     "output_type": "execute_result"
    }
   ],
   "source": [
    "len(data.age_upon_outcome.unique())"
   ]
  },
  {
   "cell_type": "code",
   "execution_count": 10,
   "metadata": {},
   "outputs": [
    {
     "data": {
      "text/plain": [
       "8"
      ]
     },
     "execution_count": 10,
     "metadata": {},
     "output_type": "execute_result"
    }
   ],
   "source": [
    "len(data[data.age_upon_outcome.isnull()])"
   ]
  },
  {
   "cell_type": "markdown",
   "metadata": {},
   "source": [
    "There are 47 unique different ages. With 8 rows having a null age. "
   ]
  },
  {
   "cell_type": "markdown",
   "metadata": {},
   "source": [
    "#### Transformation"
   ]
  },
  {
   "cell_type": "markdown",
   "metadata": {},
   "source": [
    "Converting the age_upon_outcome column to years. Since these are strings but can be made sense as a continuous "
   ]
  },
  {
   "cell_type": "code",
   "execution_count": 11,
   "metadata": {},
   "outputs": [],
   "source": [
    "age_upon_outcome_num = []\n",
    "for item in data.age_upon_outcome:\n",
    "    if type(item) == float: #if the row in nan\n",
    "        age_upon_outcome_num.append(0)\n",
    "    elif item.split()[1] == \"years\" or item.split()[1] == \"year\":\n",
    "        age_upon_outcome_num.append(float(item.split()[0]))\n",
    "    elif item.split()[1] == \"months\" or item.split()[1] == \"month\":\n",
    "        age_upon_outcome_num.append(int(item.split()[0]) / 12)\n",
    "    elif item.split()[1] == \"weeks\" or item.split()[1] == \"week\":\n",
    "        age_upon_outcome_num.append(int(item.split()[0]) / 52)\n",
    "    elif item.split()[1] == \"days\" or item.split()[1] == \"day\":\n",
    "        age_upon_outcome_num.append(int(item.split()[0]) / 365)\n",
    "    else: \n",
    "        print(\"WARNING: in final else: \", item)\n",
    "        age_upon_outcome_num.append(None)\n",
    "data['age_upon_outcome_num'] = age_upon_outcome_num\n",
    "data = data.drop('age_upon_outcome', axis=1)"
   ]
  },
  {
   "cell_type": "code",
   "execution_count": 12,
   "metadata": {},
   "outputs": [
    {
     "data": {
      "text/plain": [
       "count    78256.000000\n",
       "mean         2.132660\n",
       "std          2.895409\n",
       "min          0.000000\n",
       "25%          0.250000\n",
       "50%          1.000000\n",
       "75%          3.000000\n",
       "max         25.000000\n",
       "Name: age_upon_outcome_num, dtype: float64"
      ]
     },
     "execution_count": 12,
     "metadata": {},
     "output_type": "execute_result"
    }
   ],
   "source": [
    "data.age_upon_outcome_num.describe()"
   ]
  },
  {
   "cell_type": "markdown",
   "metadata": {},
   "source": [
    "#### The max age is 25. The mean age is 2.13. "
   ]
  },
  {
   "cell_type": "code",
   "execution_count": 13,
   "metadata": {},
   "outputs": [
    {
     "data": {
      "text/plain": [
       "<matplotlib.axes._subplots.AxesSubplot at 0x7f66199f34a8>"
      ]
     },
     "execution_count": 13,
     "metadata": {},
     "output_type": "execute_result"
    },
    {
     "data": {
      "image/png": "[encoded data removed]",
      "text/plain": [
       "<Figure size 432x288 with 1 Axes>"
      ]
     },
     "metadata": {},
     "output_type": "display_data"
    }
   ],
   "source": [
    "data.age_upon_outcome_num.hist()"
   ]
  },
  {
   "cell_type": "markdown",
   "metadata": {},
   "source": [
    "The data is very left skewed. The animals overall tend to be younger. "
   ]
  },
  {
   "cell_type": "markdown",
   "metadata": {},
   "source": [
    "### animal_id"
   ]
  },
  {
   "cell_type": "markdown",
   "metadata": {},
   "source": [
    "#### Exploration"
   ]
  },
  {
   "cell_type": "code",
   "execution_count": 14,
   "metadata": {},
   "outputs": [
    {
     "data": {
      "text/plain": [
       "70855"
      ]
     },
     "execution_count": 14,
     "metadata": {},
     "output_type": "execute_result"
    }
   ],
   "source": [
    "len(data.animal_id.unique())"
   ]
  },
  {
   "cell_type": "markdown",
   "metadata": {},
   "source": [
    "Choosing to drop this column as it is different for almost every animal. It serves as a unique identifier. "
   ]
  },
  {
   "cell_type": "code",
   "execution_count": 15,
   "metadata": {},
   "outputs": [],
   "source": [
    "data = data.drop('animal_id', axis=1)"
   ]
  },
  {
   "cell_type": "markdown",
   "metadata": {},
   "source": [
    "### animal_type"
   ]
  },
  {
   "cell_type": "markdown",
   "metadata": {},
   "source": [
    "#### Exploration"
   ]
  },
  {
   "cell_type": "code",
   "execution_count": 16,
   "metadata": {},
   "outputs": [
    {
     "data": {
      "text/plain": [
       "array(['Cat', 'Dog', 'Other', 'Bird', 'Livestock'], dtype=object)"
      ]
     },
     "execution_count": 16,
     "metadata": {},
     "output_type": "execute_result"
    }
   ],
   "source": [
    "data.animal_type.unique()"
   ]
  },
  {
   "cell_type": "markdown",
   "metadata": {},
   "source": [
    "There are 4 different identified types of animals and some \"other\" \n",
    "\n",
    "There are no NaN's in this column. However, there are some that are \"Other.\" "
   ]
  },
  {
   "cell_type": "code",
   "execution_count": 17,
   "metadata": {},
   "outputs": [
    {
     "data": {
      "text/plain": [
       "animal_type\n",
       "Bird           334\n",
       "Cat          29422\n",
       "Dog          44242\n",
       "Livestock        9\n",
       "Other         4249\n",
       "dtype: int64"
      ]
     },
     "execution_count": 17,
     "metadata": {},
     "output_type": "execute_result"
    }
   ],
   "source": [
    "data.groupby('animal_type').size()"
   ]
  },
  {
   "cell_type": "code",
   "execution_count": 18,
   "metadata": {},
   "outputs": [
    {
     "data": {
      "text/plain": [
       "<matplotlib.axes._subplots.AxesSubplot at 0x7f661cea9828>"
      ]
     },
     "execution_count": 18,
     "metadata": {},
     "output_type": "execute_result"
    },
    {
     "data": {
      "image/png": "[encoded data removed]",
      "text/plain": [
       "<Figure size 432x288 with 1 Axes>"
      ]
     },
     "metadata": {},
     "output_type": "display_data"
    }
   ],
   "source": [
    "sns.barplot(x=['Bird', 'Cat', 'Dog','Livestock', 'Other'], y=data.groupby('animal_type').size())"
   ]
  },
  {
   "cell_type": "markdown",
   "metadata": {},
   "source": [
    "Cats and dogs are a large majority of the animals. "
   ]
  },
  {
   "cell_type": "markdown",
   "metadata": {},
   "source": [
    "### breed"
   ]
  },
  {
   "cell_type": "markdown",
   "metadata": {},
   "source": [
    "#### Exploration"
   ]
  },
  {
   "cell_type": "code",
   "execution_count": 19,
   "metadata": {},
   "outputs": [
    {
     "data": {
      "text/plain": [
       "array(['Domestic Shorthair Mix', 'Beagle Mix', 'Pit Bull', ...,\n",
       "       'Standard Schnauzer/German Shepherd', 'Pheasant Mix',\n",
       "       'Cardigan Welsh Corgi/Miniature Schnauzer'], dtype=object)"
      ]
     },
     "execution_count": 19,
     "metadata": {},
     "output_type": "execute_result"
    }
   ],
   "source": [
    "data.breed.unique()"
   ]
  },
  {
   "cell_type": "code",
   "execution_count": 20,
   "metadata": {},
   "outputs": [
    {
     "data": {
      "text/plain": [
       "2128"
      ]
     },
     "execution_count": 20,
     "metadata": {},
     "output_type": "execute_result"
    }
   ],
   "source": [
    "len(data.breed.unique())"
   ]
  },
  {
   "cell_type": "code",
   "execution_count": 21,
   "metadata": {},
   "outputs": [
    {
     "data": {
      "text/plain": [
       "0"
      ]
     },
     "execution_count": 21,
     "metadata": {},
     "output_type": "execute_result"
    }
   ],
   "source": [
    "len(data[data.breed.isnull()])"
   ]
  },
  {
   "cell_type": "markdown",
   "metadata": {},
   "source": [
    "No NaN's in this column. However, there are many many different breeds, 2,128. This should be kept in consideration."
   ]
  },
  {
   "cell_type": "markdown",
   "metadata": {},
   "source": [
    "#### color"
   ]
  },
  {
   "cell_type": "code",
   "execution_count": 22,
   "metadata": {},
   "outputs": [
    {
     "data": {
      "text/plain": [
       "array(['Orange Tabby', 'White/Brown', 'Blue/White', 'White', 'Brown',\n",
       "       'Brown/White', 'Tan', 'Blue Tabby/White', 'White/Black',\n",
       "       'Black/White', 'Black', 'Brown Brindle/White', 'Brown Tabby',\n",
       "       'Brown Tabby/White', 'Black Tabby', 'Tan/White', 'Brown Brindle',\n",
       "       'Brown Brindle/Black', 'Yellow', 'Blue/Tan', 'Seal Point',\n",
       "       'Torbie', 'Buff', 'Red/White', 'Black/Brown', 'Blue',\n",
       "       'Cream Tabby/White', 'Calico', 'Brown Merle/White', 'Chocolate',\n",
       "       'White/Brown Brindle', 'Fawn', 'Blue Merle/White', 'Brown/Black',\n",
       "       'Sable', 'Cream', 'White/Tan', 'Black/Gray', 'Black/Tan',\n",
       "       'Blue Tabby', 'Gray', 'White/Tricolor', 'Fawn/White', 'Red',\n",
       "       'Red/Brown', 'Gray/Brown', 'Tricolor', 'Orange Tabby/White',\n",
       "       'White/Blue', 'Red/Cream', 'Tricolor/Brown', 'Silver Tabby',\n",
       "       'Flame Point', 'Red Tick/Brown Merle', 'White/Orange Tabby',\n",
       "       'Chocolate/White', 'Black/Blue Merle', 'Tortie', 'Red Merle/White',\n",
       "       'White/Buff', 'Cream Tabby', 'Apricot', 'Tan/Silver', 'Brown/Tan',\n",
       "       'White/Chocolate', 'Lynx Point', 'Gold', 'Sable/White',\n",
       "       'Black/Tricolor', 'Black Smoke', 'Gray/White', 'Red Merle',\n",
       "       'Tan/Black', 'Tortie Point', 'White/Gray', 'Orange/White',\n",
       "       'Torbie/White', 'Black/Silver', 'Blue Merle/Tan', 'Buff/White',\n",
       "       'Gray/Black', 'Cream/White', 'Black Brindle', 'Black/Red',\n",
       "       'White/Blue Tabby', 'Red/Red Tick', 'Blue Tick/Brown',\n",
       "       'White/Seal Point', 'Tortie/Calico', 'Yellow/White', 'Silver/Tan',\n",
       "       'White/White', 'Black/Brown Brindle', 'Seal Point/White',\n",
       "       'Blue Tick', 'Black/Cream', 'Blue Merle', 'Chocolate/Tan',\n",
       "       'Blue/Tricolor', 'Black Brindle/White', 'White/Yellow Brindle',\n",
       "       'White/Yellow', 'Lilac Point', 'Gray/Orange', 'Calico Point',\n",
       "       'Pink', 'Red Tick/Brown', 'Blue Tick/Red', 'White/Brown Tabby',\n",
       "       'Cream/Gray', 'Brown Merle', 'Blue Tabby/Black', 'White/Orange',\n",
       "       'White/Cream', 'Tortie/Blue Cream', 'Blue Cream', 'Buff/Gray',\n",
       "       'Black Tabby/White', 'Yellow/Black', 'Blue Merle/Brown', 'Red/Tan',\n",
       "       'Tan/Buff', 'Brown/Yellow', 'Gold/White', 'Green', 'Red/Black',\n",
       "       'Fawn/Black', 'Red Tick/Tan', 'Silver/White', 'White/Lynx Point',\n",
       "       'Black/Black Brindle', 'Blue Tiger/White', 'Buff/Tan',\n",
       "       'Silver Lynx Point', 'Blue Point', 'Yellow Brindle/White',\n",
       "       'White/Red', 'Red Tick/White', 'Blue Merle/Blue Merle',\n",
       "       'Gray Tabby/White', 'Gold/Gold', 'Cream/Red Tick', 'Brown/Gray',\n",
       "       'Sable/Tan', 'Chocolate/Black Smoke', 'Fawn/Brown Brindle',\n",
       "       'Liver/White', 'Brown/Brown Brindle', 'White/Apricot',\n",
       "       'White/Black Brindle', 'Orange/Tan', 'Red Tick', 'Sable/Black',\n",
       "       'Gray/Red', 'Cream/Black', 'Fawn/Blue', 'White/Blue Cream',\n",
       "       'Red/Buff', 'Tortie/White', 'Calico/Blue Tabby', 'Gray Tabby',\n",
       "       'Tan/Brown', 'Tricolor/White', 'Red/Silver', 'Buff/Black',\n",
       "       'Tortie/Orange', 'Yellow Brindle', 'Black Smoke/White',\n",
       "       'Brown/Silver', 'Silver', 'Cream/Red', 'Red Tick/Blue Tick',\n",
       "       'Blue Tick/Red Tick', 'Blue Merle/Tricolor', 'Chocolate Point',\n",
       "       'Lynx Point/White', 'Torbie/Blue Cream', 'Brown Tabby/Orange',\n",
       "       'Blue/Cream', 'Chocolate Point/White', 'Liver/Tan', 'Black/Blue',\n",
       "       'Brown Brindle/Tan', 'White/Silver', 'White/Red Tick',\n",
       "       'White/Liver', 'Tan/Tricolor', 'Tan/Yellow', 'Tricolor/Chocolate',\n",
       "       'Chocolate/Red', 'Sable/Brown', 'White/Black Smoke',\n",
       "       'Blue Tick/White', 'White/Cream Tabby', 'Blue/Brown Brindle',\n",
       "       'Silver/Brown', 'White/Gold', 'Silver Tabby/White',\n",
       "       'Blue Point/White', 'Tricolor/Tan', 'Gray/Tan',\n",
       "       'Lynx Point/Brown Tabby', 'Calico/White', 'Red/Red Merle',\n",
       "       'Brown/Brown', 'Blue Cream/Buff', 'Cream/Tan', 'Black/Chocolate',\n",
       "       'Lilac Point/White', 'Blue Smoke/Brown', 'Tan/Gray', 'Ruddy/Cream',\n",
       "       'Tortie/Black', 'Tricolor/Black', 'Buff/Brown',\n",
       "       'White/Black Tabby', 'Brown Merle/Black', 'Green/White',\n",
       "       'Gold/Buff', 'Orange', 'Blue Tiger', 'Sable/Buff',\n",
       "       'Black Brindle/Brown', 'Chocolate/Brown', 'Chocolate/Red Tick',\n",
       "       'Blue Tick/Tan', 'Calico/Black', 'Gray/Cream', 'Brown/Tricolor',\n",
       "       'Blue Merle/Black', 'Blue Tick/Brown Brindle', 'Gray/Pink',\n",
       "       'Tan/Cream', 'Liver Tick/White', 'Yellow Brindle/Blue',\n",
       "       'Blue Tick/Black', 'Brown/Red', 'Black/Black', 'Brown Tiger',\n",
       "       'Brown Tabby/Black', 'Silver/Chocolate', 'Sable/Red Merle',\n",
       "       'Silver Tabby/Black', 'Red Merle/Tan', 'White/Red Merle',\n",
       "       'Black Brindle/Brown Brindle', 'Calico/Brown Tabby', 'Blue/Gray',\n",
       "       'Blue Cream/Blue Tabby', 'White/Blue Merle', 'Silver/Black',\n",
       "       'Tan/Gold', 'Blue Merle/Gray', 'Gold/Black', 'Apricot/White',\n",
       "       'Cream/Seal Point', 'Chocolate/Black', 'Black/Orange', 'Gold/Tan',\n",
       "       'Red Tick/Black', 'Lynx Point/Gray Tabby', 'Blue Tabby/Blue Cream',\n",
       "       'Chocolate/Brown Merle', 'Black Tiger/White', 'Brown/Buff',\n",
       "       'Calico/Orange Tabby', 'White/Gray Tiger', 'Tan/Blue',\n",
       "       'Chocolate/Cream', 'Red Merle/Black', 'Tan/Yellow Brindle',\n",
       "       'Tricolor/Blue', 'Red/Blue', 'Red/Gray', 'Tricolor/Blue Tick',\n",
       "       'White/Gray Tabby', 'Blue Cream/Blue Tiger', 'Blue Merle/Red',\n",
       "       'Brown/Orange', 'Gray/Tortie', 'Gray/Yellow',\n",
       "       'Black/Yellow Brindle', 'Orange Tiger', 'Agouti', 'Fawn/Brown',\n",
       "       'Black/Blue Tick', 'Brown/Cream', 'Brown Brindle/Brown Merle',\n",
       "       'Black/Buff', 'Fawn/Tan', 'Gold/Yellow', 'Agouti/Brown Tabby',\n",
       "       'Gray/Gold', 'Brown Brindle/Blue Tick', 'Blue Cream/White',\n",
       "       'Brown/Chocolate', 'Calico/Blue Cream', 'Tan/Tan',\n",
       "       'Brown Brindle/Red Tick', 'White/Brown Merle', 'Black/Black Smoke',\n",
       "       'Blue Merle/Cream', 'Chocolate/Tricolor', 'Chocolate/Gray',\n",
       "       'Calico Point/White', 'Apricot/Brown', 'Gray/Blue',\n",
       "       'Brown Tabby/Brown', 'Blue/Brown', 'Gray Tabby/Black',\n",
       "       'Chocolate Point/Cream', 'Gray/Silver', 'Black/Green',\n",
       "       'Red/Tricolor', 'Green/Yellow', 'Blue Tabby/Cream', 'Cream/Orange',\n",
       "       'Brown Tabby/Gray Tabby', 'Brown Tabby/Tortie', 'White/Blue Tick',\n",
       "       'Black Smoke/Brown Tabby', 'Liver/Buff', 'White/Pink',\n",
       "       'Liver/Cream', 'Red Tick/Red', 'Blue/Black', 'Black/Brown Merle',\n",
       "       'Buff/Yellow', 'Red/Green', 'White/Calico', 'Seal Point/Gray',\n",
       "       'Green/Blue', 'Brown Brindle/Brown', 'Brown Brindle/Blue Cream',\n",
       "       'Black Tabby/Black', 'Brown/Black Brindle', 'Liver/Brown Brindle',\n",
       "       'Liver Tick', 'Tan/Red', 'Brown Merle/Tan', 'Brown/Red Merle',\n",
       "       'Brown/Brown Merle', 'Black Brindle/Blue Tick', 'Agouti/Gray',\n",
       "       'Black Smoke/Black', 'Brown Tabby/Black Brindle',\n",
       "       'Blue Merle/Red Merle', 'Yellow/Gray', 'White/Brown Tiger',\n",
       "       'Tan/Apricot', 'Yellow/Tan', 'Tricolor/Blue Merle',\n",
       "       'White/Flame Point', 'Chocolate/Brown Brindle',\n",
       "       'Brown Brindle/Brown Brindle', 'Sable/Cream',\n",
       "       'Blue Merle/Brown Brindle', 'Yellow/Yellow', 'Brown/Red Tick',\n",
       "       'Flame Point/White', 'Brown Brindle/Blue', 'Tricolor/Silver',\n",
       "       'Calico/Tricolor', 'Blue/Calico', 'Brown/Blue', 'Liver',\n",
       "       'Tan/Brown Merle', 'Black Brindle/Black', 'Orange Tabby/Orange',\n",
       "       'Brown Tiger/White', 'Blue Cream/Tortie', 'Sable/Red',\n",
       "       'Tricolor/Brown Brindle', 'Black Smoke/Gray', 'Silver/Blue',\n",
       "       'Calico/Orange', 'Brown/Blue Merle', 'Red/Red', 'Blue/Orange',\n",
       "       'Buff/Cream', 'Blue/Blue', 'Flame Point/Cream',\n",
       "       'Brown Tabby/Cream', 'Blue Smoke/White', 'Tricolor/Gray',\n",
       "       'Tortie Point/White', 'Blue/Silver', 'Gold/Brown', 'Black/Yellow',\n",
       "       'Tortie Point/Lynx Point', 'Cream/Silver', 'Gold/Cream',\n",
       "       'Buff/Red', 'Brown/Green', 'Torbie/Blue Tabby', 'Agouti/White',\n",
       "       'Silver Lynx Point/Gray', 'Brown Tabby/Gray', 'Brown/Pink',\n",
       "       'Black/Pink', 'Brown/Black Tabby', 'Orange/Brown', 'Green/Brown',\n",
       "       'Yellow/Brown', 'Gray/Gray', 'Silver/Gray', 'Torbie/Silver Tabby',\n",
       "       'Blue Tabby/Orange', 'White/Calico Point', 'Orange Tabby/Apricot',\n",
       "       'Cream/Blue Point', 'Orange/Blue', 'Black/Seal Point',\n",
       "       'Torbie/Brown', 'Orange Tabby/Black', 'Blue/Green',\n",
       "       'Brown Tiger/Brown', 'Chocolate/Yellow', 'Gray/Tricolor',\n",
       "       'Blue Tabby/Tan', 'Cream Tabby/Orange', 'Calico/Calico',\n",
       "       'White/Chocolate Point', 'Yellow/Orange Tabby',\n",
       "       'Calico/Gray Tabby', 'Gray Tabby/Orange',\n",
       "       'Brown Tabby/Orange Tabby', 'Gray/Buff', 'Tortie/Black Smoke',\n",
       "       'Black/Gray Tabby', 'Tricolor/Calico', 'Chocolate/Gold',\n",
       "       'Tortie/Brown', 'Black/Brown Tabby', 'Calico/Brown', 'Cream/Brown',\n",
       "       'Brown Tabby/Blue', 'Brown/Apricot', 'Blue Smoke',\n",
       "       'Blue Tabby/Buff', 'Black Tabby/Gray Tabby', 'Fawn/Tricolor',\n",
       "       'Orange/Black', 'Brown/Brown Tabby', 'Orange Tabby/Tortie Point',\n",
       "       'Liver/Chocolate', 'Apricot/Tricolor', 'Cream/Brown Merle',\n",
       "       'Tan/Brown Brindle', 'White/Fawn', 'Black/Silver Tabby',\n",
       "       'Cream/Yellow', 'Tortie/Blue', 'Silver/Red', 'Yellow/Cream',\n",
       "       'Silver/Cream', 'White/Liver Tick', 'Red/Yellow',\n",
       "       'Chocolate/Chocolate', 'Red/Gold', 'Chocolate/Brown Tabby',\n",
       "       'Sable/Gray', 'Orange Tabby/Cream', 'Blue/Yellow Brindle',\n",
       "       'Red Merle/Brown Merle', 'Black/Tortie', 'Chocolate/Liver Tick',\n",
       "       'Torbie/Gray', 'Seal Point/Brown', 'Blue Point/Cream',\n",
       "       'Lynx Point/Blue', 'Brown Tabby/Brown Tabby', 'Black Tiger',\n",
       "       'White/Tortie', 'Tortie/Blue Tabby', 'Black Brindle/Blue',\n",
       "       'Black Tabby/Gray', 'Blue/Yellow', 'Calico Point/Gray',\n",
       "       'Torbie/Brown Tabby', 'Lilac Point/Cream', 'Black Smoke/Brown',\n",
       "       'Brown Merle/Brown', 'Black Smoke/Blue Tick', 'Cream/Cream',\n",
       "       'Tricolor/Brown Merle', 'Green/Gray', 'Black Tabby/Orange',\n",
       "       'Orange Tabby/Brown', 'Orange Tabby/Orange Tabby', 'Tortie/Tortie',\n",
       "       'Torbie/Black', 'Blue/Tortie', 'Black/Black Tabby',\n",
       "       'Tricolor/Red Tick', 'Yellow/Orange', 'Seal Point/Cream',\n",
       "       'Lynx Point/Tan', 'Torbie/Calico', 'Fawn/Chocolate',\n",
       "       'Brown Merle/Blue Merle', 'Orange/Orange Tabby',\n",
       "       'Cream Tabby/Cream Tabby', 'Tricolor/Tricolor', 'Black/Gold',\n",
       "       'Brown Merle/Brown Tabby', 'Tan/Red Tick', 'Green/Red',\n",
       "       'Fawn/Gray', 'Blue Smoke/Gray', 'Lynx Point/Tortie Point',\n",
       "       'Orange/Gray', 'White/Silver Tabby', 'Green/Black',\n",
       "       'Brown Brindle/Gray', 'Tricolor/Orange', 'Seal Point/Buff',\n",
       "       'Green/Orange', 'White/Lilac Point', 'White/Green',\n",
       "       'Tortie Point/Blue', 'Blue Tick/Tricolor', 'Gray/Fawn',\n",
       "       'Red Tick/Brown Brindle', 'Brown Tabby/Agouti'], dtype=object)"
      ]
     },
     "execution_count": 22,
     "metadata": {},
     "output_type": "execute_result"
    }
   ],
   "source": [
    "data.color.unique()"
   ]
  },
  {
   "cell_type": "code",
   "execution_count": 23,
   "metadata": {},
   "outputs": [
    {
     "data": {
      "text/plain": [
       "525"
      ]
     },
     "execution_count": 23,
     "metadata": {},
     "output_type": "execute_result"
    }
   ],
   "source": [
    "len(data.color.unique())"
   ]
  },
  {
   "cell_type": "code",
   "execution_count": 24,
   "metadata": {},
   "outputs": [
    {
     "data": {
      "text/plain": [
       "0"
      ]
     },
     "execution_count": 24,
     "metadata": {},
     "output_type": "execute_result"
    }
   ],
   "source": [
    "len(data[data.color.isnull()])"
   ]
  },
  {
   "cell_type": "markdown",
   "metadata": {},
   "source": [
    "Good news, no NaN's in this column. There are once again, many colors. Maybe some colors could be condensed. "
   ]
  },
  {
   "cell_type": "markdown",
   "metadata": {},
   "source": [
    "### date_of_birth"
   ]
  },
  {
   "cell_type": "markdown",
   "metadata": {},
   "source": [
    "#### Exploration"
   ]
  },
  {
   "cell_type": "code",
   "execution_count": 25,
   "metadata": {},
   "outputs": [
    {
     "data": {
      "text/plain": [
       "0"
      ]
     },
     "execution_count": 25,
     "metadata": {},
     "output_type": "execute_result"
    }
   ],
   "source": [
    "len(data[data.date_of_birth.isnull()])"
   ]
  },
  {
   "cell_type": "code",
   "execution_count": 26,
   "metadata": {},
   "outputs": [],
   "source": [
    "data['date_of_birth_dt'] = pd.to_datetime(data['date_of_birth'])\n",
    "data = data.drop('date_of_birth', axis=1)"
   ]
  },
  {
   "cell_type": "code",
   "execution_count": 27,
   "metadata": {},
   "outputs": [
    {
     "data": {
      "text/plain": [
       "<matplotlib.axes._subplots.AxesSubplot at 0x7f661ce7d0f0>"
      ]
     },
     "execution_count": 27,
     "metadata": {},
     "output_type": "execute_result"
    },
    {
     "data": {
      "image/png": "[encoded data removed]",
      "text/plain": [
       "<Figure size 432x288 with 1 Axes>"
      ]
     },
     "metadata": {},
     "output_type": "display_data"
    }
   ],
   "source": [
    "data.date_of_birth_dt.hist()"
   ]
  },
  {
   "cell_type": "markdown",
   "metadata": {},
   "source": [
    "As was reflected in the age_upon_outcome. Most of the animals have more recent birthdates and are younger. \n",
    "\n",
    "No transformations are needed here. "
   ]
  },
  {
   "cell_type": "markdown",
   "metadata": {},
   "source": [
    "### datetime"
   ]
  },
  {
   "cell_type": "markdown",
   "metadata": {},
   "source": [
    "#### Exploration "
   ]
  },
  {
   "cell_type": "code",
   "execution_count": 28,
   "metadata": {},
   "outputs": [],
   "source": [
    "data['datetime_dt'] = pd.to_datetime(data['datetime'])"
   ]
  },
  {
   "cell_type": "code",
   "execution_count": 29,
   "metadata": {},
   "outputs": [
    {
     "data": {
      "text/plain": [
       "<matplotlib.axes._subplots.AxesSubplot at 0x7f661cea9ef0>"
      ]
     },
     "execution_count": 29,
     "metadata": {},
     "output_type": "execute_result"
    },
    {
     "data": {
      "image/png": "[encoded data removed]",
      "text/plain": [
       "<Figure size 432x288 with 1 Axes>"
      ]
     },
     "metadata": {},
     "output_type": "display_data"
    }
   ],
   "source": [
    "data.datetime_dt.hist()"
   ]
  },
  {
   "cell_type": "markdown",
   "metadata": {},
   "source": [
    "#### monthyear"
   ]
  },
  {
   "cell_type": "code",
   "execution_count": 30,
   "metadata": {},
   "outputs": [],
   "source": [
    "data['monthyear_dt'] = pd.to_datetime(data.monthyear)"
   ]
  },
  {
   "cell_type": "code",
   "execution_count": 31,
   "metadata": {},
   "outputs": [
    {
     "data": {
      "text/plain": [
       "<matplotlib.axes._subplots.AxesSubplot at 0x7f661cd9d8d0>"
      ]
     },
     "execution_count": 31,
     "metadata": {},
     "output_type": "execute_result"
    },
    {
     "data": {
      "image/png": "[encoded data removed]",
      "text/plain": [
       "<Figure size 432x288 with 1 Axes>"
      ]
     },
     "metadata": {},
     "output_type": "display_data"
    }
   ],
   "source": [
    "data.monthyear_dt.hist()"
   ]
  },
  {
   "cell_type": "code",
   "execution_count": 32,
   "metadata": {},
   "outputs": [
    {
     "data": {
      "text/plain": [
       "0"
      ]
     },
     "execution_count": 32,
     "metadata": {},
     "output_type": "execute_result"
    }
   ],
   "source": [
    "len(data[data.monthyear_dt != data.datetime_dt])"
   ]
  },
  {
   "cell_type": "markdown",
   "metadata": {},
   "source": [
    "datatime and monthyear are the same data. Dropping the column monthyear. Also, based on data description, datetime seems like date that the outcome was determined. "
   ]
  },
  {
   "cell_type": "code",
   "execution_count": 33,
   "metadata": {
    "scrolled": true
   },
   "outputs": [
    {
     "data": {
      "text/html": [
       "<div>\n",
       "<style scoped>\n",
       "    .dataframe tbody tr th:only-of-type {\n",
       "        vertical-align: middle;\n",
       "    }\n",
       "\n",
       "    .dataframe tbody tr th {\n",
       "        vertical-align: top;\n",
       "    }\n",
       "\n",
       "    .dataframe thead th {\n",
       "        text-align: right;\n",
       "    }\n",
       "</style>\n",
       "<table border=\"1\" class=\"dataframe\">\n",
       "  <thead>\n",
       "    <tr style=\"text-align: right;\">\n",
       "      <th></th>\n",
       "      <th>animal_type</th>\n",
       "      <th>breed</th>\n",
       "      <th>color</th>\n",
       "      <th>name</th>\n",
       "      <th>outcome_subtype</th>\n",
       "      <th>outcome_type</th>\n",
       "      <th>sex_upon_outcome</th>\n",
       "      <th>age_upon_outcome_num</th>\n",
       "      <th>date_of_birth_dt</th>\n",
       "      <th>outcome_dt</th>\n",
       "    </tr>\n",
       "  </thead>\n",
       "  <tbody>\n",
       "    <tr>\n",
       "      <th>0</th>\n",
       "      <td>Cat</td>\n",
       "      <td>Domestic Shorthair Mix</td>\n",
       "      <td>Orange Tabby</td>\n",
       "      <td>NaN</td>\n",
       "      <td>Partner</td>\n",
       "      <td>Transfer</td>\n",
       "      <td>Intact Male</td>\n",
       "      <td>0.038462</td>\n",
       "      <td>2014-07-07</td>\n",
       "      <td>2014-07-22 16:04:00</td>\n",
       "    </tr>\n",
       "    <tr>\n",
       "      <th>1</th>\n",
       "      <td>Dog</td>\n",
       "      <td>Beagle Mix</td>\n",
       "      <td>White/Brown</td>\n",
       "      <td>Lucy</td>\n",
       "      <td>Partner</td>\n",
       "      <td>Transfer</td>\n",
       "      <td>Spayed Female</td>\n",
       "      <td>1.000000</td>\n",
       "      <td>2012-11-06</td>\n",
       "      <td>2013-11-07 11:47:00</td>\n",
       "    </tr>\n",
       "    <tr>\n",
       "      <th>2</th>\n",
       "      <td>Dog</td>\n",
       "      <td>Pit Bull</td>\n",
       "      <td>Blue/White</td>\n",
       "      <td>*Johnny</td>\n",
       "      <td>NaN</td>\n",
       "      <td>Adoption</td>\n",
       "      <td>Neutered Male</td>\n",
       "      <td>1.000000</td>\n",
       "      <td>2013-03-31</td>\n",
       "      <td>2014-06-03 14:20:00</td>\n",
       "    </tr>\n",
       "    <tr>\n",
       "      <th>3</th>\n",
       "      <td>Dog</td>\n",
       "      <td>Miniature Schnauzer Mix</td>\n",
       "      <td>White</td>\n",
       "      <td>Monday</td>\n",
       "      <td>Partner</td>\n",
       "      <td>Transfer</td>\n",
       "      <td>Neutered Male</td>\n",
       "      <td>9.000000</td>\n",
       "      <td>2005-06-02</td>\n",
       "      <td>2014-06-15 15:50:00</td>\n",
       "    </tr>\n",
       "    <tr>\n",
       "      <th>4</th>\n",
       "      <td>Other</td>\n",
       "      <td>Bat Mix</td>\n",
       "      <td>Brown</td>\n",
       "      <td>NaN</td>\n",
       "      <td>Rabies Risk</td>\n",
       "      <td>Euthanasia</td>\n",
       "      <td>Unknown</td>\n",
       "      <td>0.416667</td>\n",
       "      <td>2014-01-07</td>\n",
       "      <td>2014-07-07 14:04:00</td>\n",
       "    </tr>\n",
       "  </tbody>\n",
       "</table>\n",
       "</div>"
      ],
      "text/plain": [
       "  animal_type                    breed         color     name outcome_subtype  \\\n",
       "0         Cat   Domestic Shorthair Mix  Orange Tabby      NaN         Partner   \n",
       "1         Dog               Beagle Mix   White/Brown     Lucy         Partner   \n",
       "2         Dog                 Pit Bull    Blue/White  *Johnny             NaN   \n",
       "3         Dog  Miniature Schnauzer Mix         White   Monday         Partner   \n",
       "4       Other                  Bat Mix         Brown      NaN     Rabies Risk   \n",
       "\n",
       "  outcome_type sex_upon_outcome  age_upon_outcome_num date_of_birth_dt  \\\n",
       "0     Transfer      Intact Male              0.038462       2014-07-07   \n",
       "1     Transfer    Spayed Female              1.000000       2012-11-06   \n",
       "2     Adoption    Neutered Male              1.000000       2013-03-31   \n",
       "3     Transfer    Neutered Male              9.000000       2005-06-02   \n",
       "4   Euthanasia          Unknown              0.416667       2014-01-07   \n",
       "\n",
       "           outcome_dt  \n",
       "0 2014-07-22 16:04:00  \n",
       "1 2013-11-07 11:47:00  \n",
       "2 2014-06-03 14:20:00  \n",
       "3 2014-06-15 15:50:00  \n",
       "4 2014-07-07 14:04:00  "
      ]
     },
     "execution_count": 33,
     "metadata": {},
     "output_type": "execute_result"
    }
   ],
   "source": [
    "#cleaning up and renaming some columns \n",
    "data = data.drop('monthyear_dt', axis=1)\n",
    "data = data.drop('monthyear', axis=1)\n",
    "data = data.drop('datetime', axis=1)\n",
    "data['outcome_dt'] = data['datetime_dt']\n",
    "data = data.drop('datetime_dt', axis=1)\n",
    "data.head()"
   ]
  },
  {
   "cell_type": "markdown",
   "metadata": {},
   "source": [
    "### name"
   ]
  },
  {
   "cell_type": "markdown",
   "metadata": {},
   "source": [
    "#### Exploration"
   ]
  },
  {
   "cell_type": "code",
   "execution_count": 34,
   "metadata": {},
   "outputs": [
    {
     "data": {
      "text/plain": [
       "23886"
      ]
     },
     "execution_count": 34,
     "metadata": {},
     "output_type": "execute_result"
    }
   ],
   "source": [
    "len(data[data.name.isnull()])"
   ]
  },
  {
   "cell_type": "code",
   "execution_count": 35,
   "metadata": {},
   "outputs": [
    {
     "data": {
      "text/plain": [
       "14575"
      ]
     },
     "execution_count": 35,
     "metadata": {},
     "output_type": "execute_result"
    }
   ],
   "source": [
    "len(data.name.unique())"
   ]
  },
  {
   "cell_type": "markdown",
   "metadata": {},
   "source": [
    "#### There are 14,575 unique names and 23,886 animals with no name. "
   ]
  },
  {
   "cell_type": "markdown",
   "metadata": {},
   "source": [
    "#### Transformation "
   ]
  },
  {
   "cell_type": "markdown",
   "metadata": {},
   "source": [
    "Create a new column of whether the animal has a name"
   ]
  },
  {
   "cell_type": "code",
   "execution_count": 36,
   "metadata": {},
   "outputs": [],
   "source": [
    "data['has_name'] = [False if type(x) == float else True for x in data.name]\n",
    "data = data.drop('name', axis=1)"
   ]
  },
  {
   "cell_type": "markdown",
   "metadata": {},
   "source": [
    "### outcome_subtype"
   ]
  },
  {
   "cell_type": "markdown",
   "metadata": {},
   "source": [
    "#### Exploration"
   ]
  },
  {
   "cell_type": "code",
   "execution_count": 37,
   "metadata": {},
   "outputs": [
    {
     "data": {
      "text/plain": [
       "20"
      ]
     },
     "execution_count": 37,
     "metadata": {},
     "output_type": "execute_result"
    }
   ],
   "source": [
    "len(data.outcome_subtype.unique())"
   ]
  },
  {
   "cell_type": "markdown",
   "metadata": {},
   "source": [
    "This column further describes outcome_type, which is the y value. It should not be included in model creation."
   ]
  },
  {
   "cell_type": "code",
   "execution_count": 38,
   "metadata": {},
   "outputs": [],
   "source": [
    "data = data.drop('outcome_subtype', axis=1)"
   ]
  },
  {
   "cell_type": "markdown",
   "metadata": {},
   "source": [
    "### outcome_type"
   ]
  },
  {
   "cell_type": "code",
   "execution_count": 39,
   "metadata": {},
   "outputs": [
    {
     "data": {
      "text/plain": [
       "array(['Transfer', 'Adoption', 'Euthanasia', 'Return to Owner', 'Died',\n",
       "       'Disposal', 'Relocate', 'Missing', nan, 'Rto-Adopt'], dtype=object)"
      ]
     },
     "execution_count": 39,
     "metadata": {},
     "output_type": "execute_result"
    }
   ],
   "source": [
    "data.outcome_type.unique()"
   ]
  },
  {
   "cell_type": "markdown",
   "metadata": {},
   "source": [
    "There are 10 different outcome types."
   ]
  },
  {
   "cell_type": "code",
   "execution_count": 40,
   "metadata": {},
   "outputs": [
    {
     "data": {
      "text/plain": [
       "12"
      ]
     },
     "execution_count": 40,
     "metadata": {},
     "output_type": "execute_result"
    }
   ],
   "source": [
    "#data[data.outcome_type == 'Disposal']\n",
    "len(data[data.outcome_type.isnull()])"
   ]
  },
  {
   "cell_type": "markdown",
   "metadata": {},
   "source": [
    "#### Transformation\n",
    "Creating an outcome_type simplified column. \n",
    "* adopted: {'Adoption', 'Return to Owner', 'Rto-Adopt'} \n",
    "* not: everything else\n"
   ]
  },
  {
   "cell_type": "code",
   "execution_count": 41,
   "metadata": {},
   "outputs": [],
   "source": [
    "outcome = ['adopted' if outcome == 'Adoption' or outcome == 'Return to Owner' or outcome == 'Rto-Adopt' \n",
    "           else 'not' for outcome in data.outcome_type]\n",
    "data['outcome'] = outcome\n",
    "data = data.drop('outcome_type', axis=1)"
   ]
  },
  {
   "cell_type": "code",
   "execution_count": 42,
   "metadata": {},
   "outputs": [
    {
     "data": {
      "text/html": [
       "<div>\n",
       "<style scoped>\n",
       "    .dataframe tbody tr th:only-of-type {\n",
       "        vertical-align: middle;\n",
       "    }\n",
       "\n",
       "    .dataframe tbody tr th {\n",
       "        vertical-align: top;\n",
       "    }\n",
       "\n",
       "    .dataframe thead th {\n",
       "        text-align: right;\n",
       "    }\n",
       "</style>\n",
       "<table border=\"1\" class=\"dataframe\">\n",
       "  <thead>\n",
       "    <tr style=\"text-align: right;\">\n",
       "      <th></th>\n",
       "      <th>animal_type</th>\n",
       "      <th>breed</th>\n",
       "      <th>color</th>\n",
       "      <th>sex_upon_outcome</th>\n",
       "      <th>age_upon_outcome_num</th>\n",
       "      <th>date_of_birth_dt</th>\n",
       "      <th>outcome_dt</th>\n",
       "      <th>has_name</th>\n",
       "      <th>outcome</th>\n",
       "    </tr>\n",
       "  </thead>\n",
       "  <tbody>\n",
       "    <tr>\n",
       "      <th>0</th>\n",
       "      <td>Cat</td>\n",
       "      <td>Domestic Shorthair Mix</td>\n",
       "      <td>Orange Tabby</td>\n",
       "      <td>Intact Male</td>\n",
       "      <td>0.038462</td>\n",
       "      <td>2014-07-07</td>\n",
       "      <td>2014-07-22 16:04:00</td>\n",
       "      <td>False</td>\n",
       "      <td>not</td>\n",
       "    </tr>\n",
       "    <tr>\n",
       "      <th>1</th>\n",
       "      <td>Dog</td>\n",
       "      <td>Beagle Mix</td>\n",
       "      <td>White/Brown</td>\n",
       "      <td>Spayed Female</td>\n",
       "      <td>1.000000</td>\n",
       "      <td>2012-11-06</td>\n",
       "      <td>2013-11-07 11:47:00</td>\n",
       "      <td>True</td>\n",
       "      <td>not</td>\n",
       "    </tr>\n",
       "    <tr>\n",
       "      <th>2</th>\n",
       "      <td>Dog</td>\n",
       "      <td>Pit Bull</td>\n",
       "      <td>Blue/White</td>\n",
       "      <td>Neutered Male</td>\n",
       "      <td>1.000000</td>\n",
       "      <td>2013-03-31</td>\n",
       "      <td>2014-06-03 14:20:00</td>\n",
       "      <td>True</td>\n",
       "      <td>adopted</td>\n",
       "    </tr>\n",
       "    <tr>\n",
       "      <th>3</th>\n",
       "      <td>Dog</td>\n",
       "      <td>Miniature Schnauzer Mix</td>\n",
       "      <td>White</td>\n",
       "      <td>Neutered Male</td>\n",
       "      <td>9.000000</td>\n",
       "      <td>2005-06-02</td>\n",
       "      <td>2014-06-15 15:50:00</td>\n",
       "      <td>True</td>\n",
       "      <td>not</td>\n",
       "    </tr>\n",
       "    <tr>\n",
       "      <th>4</th>\n",
       "      <td>Other</td>\n",
       "      <td>Bat Mix</td>\n",
       "      <td>Brown</td>\n",
       "      <td>Unknown</td>\n",
       "      <td>0.416667</td>\n",
       "      <td>2014-01-07</td>\n",
       "      <td>2014-07-07 14:04:00</td>\n",
       "      <td>False</td>\n",
       "      <td>not</td>\n",
       "    </tr>\n",
       "  </tbody>\n",
       "</table>\n",
       "</div>"
      ],
      "text/plain": [
       "  animal_type                    breed         color sex_upon_outcome  \\\n",
       "0         Cat   Domestic Shorthair Mix  Orange Tabby      Intact Male   \n",
       "1         Dog               Beagle Mix   White/Brown    Spayed Female   \n",
       "2         Dog                 Pit Bull    Blue/White    Neutered Male   \n",
       "3         Dog  Miniature Schnauzer Mix         White    Neutered Male   \n",
       "4       Other                  Bat Mix         Brown          Unknown   \n",
       "\n",
       "   age_upon_outcome_num date_of_birth_dt          outcome_dt  has_name  \\\n",
       "0              0.038462       2014-07-07 2014-07-22 16:04:00     False   \n",
       "1              1.000000       2012-11-06 2013-11-07 11:47:00      True   \n",
       "2              1.000000       2013-03-31 2014-06-03 14:20:00      True   \n",
       "3              9.000000       2005-06-02 2014-06-15 15:50:00      True   \n",
       "4              0.416667       2014-01-07 2014-07-07 14:04:00     False   \n",
       "\n",
       "   outcome  \n",
       "0      not  \n",
       "1      not  \n",
       "2  adopted  \n",
       "3      not  \n",
       "4      not  "
      ]
     },
     "execution_count": 42,
     "metadata": {},
     "output_type": "execute_result"
    }
   ],
   "source": [
    "data.head()"
   ]
  },
  {
   "cell_type": "code",
   "execution_count": 43,
   "metadata": {},
   "outputs": [
    {
     "data": {
      "text/plain": [
       "outcome\n",
       "adopted    47616\n",
       "not        30640\n",
       "dtype: int64"
      ]
     },
     "execution_count": 43,
     "metadata": {},
     "output_type": "execute_result"
    }
   ],
   "source": [
    "data.groupby('outcome').size()"
   ]
  },
  {
   "cell_type": "markdown",
   "metadata": {},
   "source": [
    "#### 47,616 adopted and 30,640 not adopted"
   ]
  },
  {
   "cell_type": "markdown",
   "metadata": {},
   "source": [
    "### sex_upon_outcome"
   ]
  },
  {
   "cell_type": "markdown",
   "metadata": {},
   "source": [
    "#### Explorations"
   ]
  },
  {
   "cell_type": "code",
   "execution_count": 44,
   "metadata": {},
   "outputs": [
    {
     "data": {
      "text/plain": [
       "array(['Intact Male', 'Spayed Female', 'Neutered Male', 'Unknown',\n",
       "       'Intact Female', nan], dtype=object)"
      ]
     },
     "execution_count": 44,
     "metadata": {},
     "output_type": "execute_result"
    }
   ],
   "source": [
    "data.sex_upon_outcome.unique()"
   ]
  },
  {
   "cell_type": "code",
   "execution_count": 45,
   "metadata": {},
   "outputs": [
    {
     "data": {
      "text/html": [
       "<div>\n",
       "<style scoped>\n",
       "    .dataframe tbody tr th:only-of-type {\n",
       "        vertical-align: middle;\n",
       "    }\n",
       "\n",
       "    .dataframe tbody tr th {\n",
       "        vertical-align: top;\n",
       "    }\n",
       "\n",
       "    .dataframe thead th {\n",
       "        text-align: right;\n",
       "    }\n",
       "</style>\n",
       "<table border=\"1\" class=\"dataframe\">\n",
       "  <thead>\n",
       "    <tr style=\"text-align: right;\">\n",
       "      <th></th>\n",
       "      <th>animal_type</th>\n",
       "      <th>breed</th>\n",
       "      <th>color</th>\n",
       "      <th>sex_upon_outcome</th>\n",
       "      <th>age_upon_outcome_num</th>\n",
       "      <th>date_of_birth_dt</th>\n",
       "      <th>outcome_dt</th>\n",
       "      <th>has_name</th>\n",
       "      <th>outcome</th>\n",
       "    </tr>\n",
       "  </thead>\n",
       "  <tbody>\n",
       "    <tr>\n",
       "      <th>16300</th>\n",
       "      <td>Dog</td>\n",
       "      <td>Dachshund</td>\n",
       "      <td>Brown Merle</td>\n",
       "      <td>NaN</td>\n",
       "      <td>7.0</td>\n",
       "      <td>2006-11-17</td>\n",
       "      <td>2013-11-27 16:11:00</td>\n",
       "      <td>True</td>\n",
       "      <td>adopted</td>\n",
       "    </tr>\n",
       "    <tr>\n",
       "      <th>68246</th>\n",
       "      <td>Dog</td>\n",
       "      <td>Labrador Retriever Mix</td>\n",
       "      <td>Black/White</td>\n",
       "      <td>NaN</td>\n",
       "      <td>0.0</td>\n",
       "      <td>2013-11-02</td>\n",
       "      <td>2016-11-19 16:35:00</td>\n",
       "      <td>True</td>\n",
       "      <td>not</td>\n",
       "    </tr>\n",
       "  </tbody>\n",
       "</table>\n",
       "</div>"
      ],
      "text/plain": [
       "      animal_type                   breed        color sex_upon_outcome  \\\n",
       "16300         Dog               Dachshund  Brown Merle              NaN   \n",
       "68246         Dog  Labrador Retriever Mix  Black/White              NaN   \n",
       "\n",
       "       age_upon_outcome_num date_of_birth_dt          outcome_dt  has_name  \\\n",
       "16300                   7.0       2006-11-17 2013-11-27 16:11:00      True   \n",
       "68246                   0.0       2013-11-02 2016-11-19 16:35:00      True   \n",
       "\n",
       "       outcome  \n",
       "16300  adopted  \n",
       "68246      not  "
      ]
     },
     "execution_count": 45,
     "metadata": {},
     "output_type": "execute_result"
    }
   ],
   "source": [
    "data[data.sex_upon_outcome.isnull()] "
   ]
  },
  {
   "cell_type": "code",
   "execution_count": 46,
   "metadata": {},
   "outputs": [],
   "source": [
    "data['sex_upon_outcome'] = ['Unknown' if type(item) == float else item for item in data.sex_upon_outcome]"
   ]
  },
  {
   "cell_type": "code",
   "execution_count": 47,
   "metadata": {},
   "outputs": [
    {
     "data": {
      "text/plain": [
       "array(['Intact Male', 'Spayed Female', 'Neutered Male', 'Unknown',\n",
       "       'Intact Female'], dtype=object)"
      ]
     },
     "execution_count": 47,
     "metadata": {},
     "output_type": "execute_result"
    }
   ],
   "source": [
    "data.sex_upon_outcome.unique()"
   ]
  },
  {
   "cell_type": "code",
   "execution_count": 48,
   "metadata": {},
   "outputs": [
    {
     "data": {
      "text/plain": [
       "sex_upon_outcome\n",
       "Intact Female     9143\n",
       "Intact Male       9549\n",
       "Neutered Male    27784\n",
       "Spayed Female    25203\n",
       "Unknown           6577\n",
       "dtype: int64"
      ]
     },
     "execution_count": 48,
     "metadata": {},
     "output_type": "execute_result"
    }
   ],
   "source": [
    "data.groupby('sex_upon_outcome').size()"
   ]
  },
  {
   "cell_type": "markdown",
   "metadata": {},
   "source": [
    "5 types of sex_upon_outcome With some unknown"
   ]
  },
  {
   "cell_type": "code",
   "execution_count": 49,
   "metadata": {},
   "outputs": [
    {
     "data": {
      "text/html": [
       "<div>\n",
       "<style scoped>\n",
       "    .dataframe tbody tr th:only-of-type {\n",
       "        vertical-align: middle;\n",
       "    }\n",
       "\n",
       "    .dataframe tbody tr th {\n",
       "        vertical-align: top;\n",
       "    }\n",
       "\n",
       "    .dataframe thead th {\n",
       "        text-align: right;\n",
       "    }\n",
       "</style>\n",
       "<table border=\"1\" class=\"dataframe\">\n",
       "  <thead>\n",
       "    <tr style=\"text-align: right;\">\n",
       "      <th></th>\n",
       "      <th>animal_type</th>\n",
       "      <th>breed</th>\n",
       "      <th>color</th>\n",
       "      <th>sex_upon_outcome</th>\n",
       "      <th>age_upon_outcome_num</th>\n",
       "      <th>date_of_birth_dt</th>\n",
       "      <th>outcome_dt</th>\n",
       "      <th>has_name</th>\n",
       "      <th>outcome</th>\n",
       "    </tr>\n",
       "  </thead>\n",
       "  <tbody>\n",
       "  </tbody>\n",
       "</table>\n",
       "</div>"
      ],
      "text/plain": [
       "Empty DataFrame\n",
       "Columns: [animal_type, breed, color, sex_upon_outcome, age_upon_outcome_num, date_of_birth_dt, outcome_dt, has_name, outcome]\n",
       "Index: []"
      ]
     },
     "execution_count": 49,
     "metadata": {},
     "output_type": "execute_result"
    }
   ],
   "source": [
    "data[data.isnull().any(axis=1)]"
   ]
  },
  {
   "cell_type": "code",
   "execution_count": 50,
   "metadata": {},
   "outputs": [
    {
     "data": {
      "text/html": [
       "<div>\n",
       "<style scoped>\n",
       "    .dataframe tbody tr th:only-of-type {\n",
       "        vertical-align: middle;\n",
       "    }\n",
       "\n",
       "    .dataframe tbody tr th {\n",
       "        vertical-align: top;\n",
       "    }\n",
       "\n",
       "    .dataframe thead th {\n",
       "        text-align: right;\n",
       "    }\n",
       "</style>\n",
       "<table border=\"1\" class=\"dataframe\">\n",
       "  <thead>\n",
       "    <tr style=\"text-align: right;\">\n",
       "      <th></th>\n",
       "      <th>animal_type</th>\n",
       "      <th>breed</th>\n",
       "      <th>color</th>\n",
       "      <th>sex_upon_outcome</th>\n",
       "      <th>age_upon_outcome_num</th>\n",
       "      <th>date_of_birth_dt</th>\n",
       "      <th>outcome_dt</th>\n",
       "      <th>has_name</th>\n",
       "      <th>outcome</th>\n",
       "    </tr>\n",
       "  </thead>\n",
       "  <tbody>\n",
       "    <tr>\n",
       "      <th>0</th>\n",
       "      <td>Cat</td>\n",
       "      <td>Domestic Shorthair Mix</td>\n",
       "      <td>Orange Tabby</td>\n",
       "      <td>Intact Male</td>\n",
       "      <td>0.038462</td>\n",
       "      <td>2014-07-07</td>\n",
       "      <td>2014-07-22 16:04:00</td>\n",
       "      <td>False</td>\n",
       "      <td>not</td>\n",
       "    </tr>\n",
       "    <tr>\n",
       "      <th>1</th>\n",
       "      <td>Dog</td>\n",
       "      <td>Beagle Mix</td>\n",
       "      <td>White/Brown</td>\n",
       "      <td>Spayed Female</td>\n",
       "      <td>1.000000</td>\n",
       "      <td>2012-11-06</td>\n",
       "      <td>2013-11-07 11:47:00</td>\n",
       "      <td>True</td>\n",
       "      <td>not</td>\n",
       "    </tr>\n",
       "    <tr>\n",
       "      <th>2</th>\n",
       "      <td>Dog</td>\n",
       "      <td>Pit Bull</td>\n",
       "      <td>Blue/White</td>\n",
       "      <td>Neutered Male</td>\n",
       "      <td>1.000000</td>\n",
       "      <td>2013-03-31</td>\n",
       "      <td>2014-06-03 14:20:00</td>\n",
       "      <td>True</td>\n",
       "      <td>adopted</td>\n",
       "    </tr>\n",
       "    <tr>\n",
       "      <th>3</th>\n",
       "      <td>Dog</td>\n",
       "      <td>Miniature Schnauzer Mix</td>\n",
       "      <td>White</td>\n",
       "      <td>Neutered Male</td>\n",
       "      <td>9.000000</td>\n",
       "      <td>2005-06-02</td>\n",
       "      <td>2014-06-15 15:50:00</td>\n",
       "      <td>True</td>\n",
       "      <td>not</td>\n",
       "    </tr>\n",
       "    <tr>\n",
       "      <th>4</th>\n",
       "      <td>Other</td>\n",
       "      <td>Bat Mix</td>\n",
       "      <td>Brown</td>\n",
       "      <td>Unknown</td>\n",
       "      <td>0.416667</td>\n",
       "      <td>2014-01-07</td>\n",
       "      <td>2014-07-07 14:04:00</td>\n",
       "      <td>False</td>\n",
       "      <td>not</td>\n",
       "    </tr>\n",
       "  </tbody>\n",
       "</table>\n",
       "</div>"
      ],
      "text/plain": [
       "  animal_type                    breed         color sex_upon_outcome  \\\n",
       "0         Cat   Domestic Shorthair Mix  Orange Tabby      Intact Male   \n",
       "1         Dog               Beagle Mix   White/Brown    Spayed Female   \n",
       "2         Dog                 Pit Bull    Blue/White    Neutered Male   \n",
       "3         Dog  Miniature Schnauzer Mix         White    Neutered Male   \n",
       "4       Other                  Bat Mix         Brown          Unknown   \n",
       "\n",
       "   age_upon_outcome_num date_of_birth_dt          outcome_dt  has_name  \\\n",
       "0              0.038462       2014-07-07 2014-07-22 16:04:00     False   \n",
       "1              1.000000       2012-11-06 2013-11-07 11:47:00      True   \n",
       "2              1.000000       2013-03-31 2014-06-03 14:20:00      True   \n",
       "3              9.000000       2005-06-02 2014-06-15 15:50:00      True   \n",
       "4              0.416667       2014-01-07 2014-07-07 14:04:00     False   \n",
       "\n",
       "   outcome  \n",
       "0      not  \n",
       "1      not  \n",
       "2  adopted  \n",
       "3      not  \n",
       "4      not  "
      ]
     },
     "execution_count": 50,
     "metadata": {},
     "output_type": "execute_result"
    }
   ],
   "source": [
    "data.head()"
   ]
  },
  {
   "cell_type": "markdown",
   "metadata": {},
   "source": [
    "#### Done cleaning the data."
   ]
  },
  {
   "cell_type": "code",
   "execution_count": 51,
   "metadata": {},
   "outputs": [
    {
     "data": {
      "text/plain": [
       "Index(['animal_type', 'breed', 'color', 'sex_upon_outcome',\n",
       "       'age_upon_outcome_num', 'date_of_birth_dt', 'outcome_dt', 'has_name',\n",
       "       'outcome'],\n",
       "      dtype='object')"
      ]
     },
     "execution_count": 51,
     "metadata": {},
     "output_type": "execute_result"
    }
   ],
   "source": [
    "data.columns"
   ]
  },
  {
   "cell_type": "markdown",
   "metadata": {},
   "source": [
    "#### Label Encode the Data "
   ]
  },
  {
   "cell_type": "code",
   "execution_count": 52,
   "metadata": {},
   "outputs": [],
   "source": [
    "labelencoder = LabelEncoder()\n",
    "data_label_encoded = data.copy()\n",
    "data_label_encoded['animal_type'] = labelencoder.fit_transform(data_label_encoded['animal_type'])\n",
    "data_label_encoded['breed'] = labelencoder.fit_transform(data_label_encoded['breed'])\n",
    "data_label_encoded['color'] = labelencoder.fit_transform(data_label_encoded['color'])\n",
    "data_label_encoded['sex_upon_outcome'] = labelencoder.fit_transform(data_label_encoded['sex_upon_outcome'])\n",
    "data_label_encoded['date_of_birth_dt'] = labelencoder.fit_transform(data_label_encoded['date_of_birth_dt'])\n",
    "data_label_encoded['outcome_dt'] = labelencoder.fit_transform(data_label_encoded['outcome_dt'])\n",
    "data_label_encoded['outcome'] = labelencoder.fit_transform(data_label_encoded['outcome'])"
   ]
  },
  {
   "cell_type": "code",
   "execution_count": 53,
   "metadata": {
    "scrolled": true
   },
   "outputs": [
    {
     "data": {
      "text/html": [
       "<div>\n",
       "<style scoped>\n",
       "    .dataframe tbody tr th:only-of-type {\n",
       "        vertical-align: middle;\n",
       "    }\n",
       "\n",
       "    .dataframe tbody tr th {\n",
       "        vertical-align: top;\n",
       "    }\n",
       "\n",
       "    .dataframe thead th {\n",
       "        text-align: right;\n",
       "    }\n",
       "</style>\n",
       "<table border=\"1\" class=\"dataframe\">\n",
       "  <thead>\n",
       "    <tr style=\"text-align: right;\">\n",
       "      <th></th>\n",
       "      <th>animal_type</th>\n",
       "      <th>breed</th>\n",
       "      <th>color</th>\n",
       "      <th>sex_upon_outcome</th>\n",
       "      <th>age_upon_outcome_num</th>\n",
       "      <th>date_of_birth_dt</th>\n",
       "      <th>outcome_dt</th>\n",
       "      <th>has_name</th>\n",
       "      <th>outcome</th>\n",
       "    </tr>\n",
       "  </thead>\n",
       "  <tbody>\n",
       "    <tr>\n",
       "      <th>0</th>\n",
       "      <td>1</td>\n",
       "      <td>937</td>\n",
       "      <td>321</td>\n",
       "      <td>1</td>\n",
       "      <td>0.038462</td>\n",
       "      <td>4624</td>\n",
       "      <td>12401</td>\n",
       "      <td>False</td>\n",
       "      <td>1</td>\n",
       "    </tr>\n",
       "    <tr>\n",
       "      <th>1</th>\n",
       "      <td>2</td>\n",
       "      <td>255</td>\n",
       "      <td>474</td>\n",
       "      <td>3</td>\n",
       "      <td>1.000000</td>\n",
       "      <td>4016</td>\n",
       "      <td>1642</td>\n",
       "      <td>True</td>\n",
       "      <td>1</td>\n",
       "    </tr>\n",
       "    <tr>\n",
       "      <th>2</th>\n",
       "      <td>2</td>\n",
       "      <td>1613</td>\n",
       "      <td>119</td>\n",
       "      <td>2</td>\n",
       "      <td>1.000000</td>\n",
       "      <td>4161</td>\n",
       "      <td>9927</td>\n",
       "      <td>True</td>\n",
       "      <td>0</td>\n",
       "    </tr>\n",
       "    <tr>\n",
       "      <th>3</th>\n",
       "      <td>2</td>\n",
       "      <td>1468</td>\n",
       "      <td>463</td>\n",
       "      <td>2</td>\n",
       "      <td>9.000000</td>\n",
       "      <td>1401</td>\n",
       "      <td>10447</td>\n",
       "      <td>True</td>\n",
       "      <td>1</td>\n",
       "    </tr>\n",
       "    <tr>\n",
       "      <th>4</th>\n",
       "      <td>4</td>\n",
       "      <td>253</td>\n",
       "      <td>122</td>\n",
       "      <td>4</td>\n",
       "      <td>0.416667</td>\n",
       "      <td>4443</td>\n",
       "      <td>11509</td>\n",
       "      <td>False</td>\n",
       "      <td>1</td>\n",
       "    </tr>\n",
       "  </tbody>\n",
       "</table>\n",
       "</div>"
      ],
      "text/plain": [
       "   animal_type  breed  color  sex_upon_outcome  age_upon_outcome_num  \\\n",
       "0            1    937    321                 1              0.038462   \n",
       "1            2    255    474                 3              1.000000   \n",
       "2            2   1613    119                 2              1.000000   \n",
       "3            2   1468    463                 2              9.000000   \n",
       "4            4    253    122                 4              0.416667   \n",
       "\n",
       "   date_of_birth_dt  outcome_dt  has_name  outcome  \n",
       "0              4624       12401     False        1  \n",
       "1              4016        1642      True        1  \n",
       "2              4161        9927      True        0  \n",
       "3              1401       10447      True        1  \n",
       "4              4443       11509     False        1  "
      ]
     },
     "execution_count": 53,
     "metadata": {},
     "output_type": "execute_result"
    }
   ],
   "source": [
    "data_label_encoded.head()"
   ]
  },
  {
   "cell_type": "code",
   "execution_count": 151,
   "metadata": {},
   "outputs": [],
   "source": [
    "#sns.pairplot(data_label_encoded)"
   ]
  },
  {
   "cell_type": "code",
   "execution_count": null,
   "metadata": {},
   "outputs": [],
   "source": [
    "#sns.heatmap(data_label_encoded.corr())"
   ]
  },
  {
   "cell_type": "markdown",
   "metadata": {},
   "source": [
    "The most correlated columns are age_upon_outcome_num and date_of_birth_dt, which are clearly directly relatied. Another stronger correlation is sex_upon_outcome and animal_type. Also, has_name and age_upon_outcome_num are somewhat correlated. "
   ]
  },
  {
   "cell_type": "code",
   "execution_count": 55,
   "metadata": {},
   "outputs": [
    {
     "data": {
      "text/html": [
       "<div>\n",
       "<style scoped>\n",
       "    .dataframe tbody tr th:only-of-type {\n",
       "        vertical-align: middle;\n",
       "    }\n",
       "\n",
       "    .dataframe tbody tr th {\n",
       "        vertical-align: top;\n",
       "    }\n",
       "\n",
       "    .dataframe thead th {\n",
       "        text-align: right;\n",
       "    }\n",
       "</style>\n",
       "<table border=\"1\" class=\"dataframe\">\n",
       "  <thead>\n",
       "    <tr style=\"text-align: right;\">\n",
       "      <th></th>\n",
       "      <th>animal_type</th>\n",
       "      <th>breed</th>\n",
       "      <th>color</th>\n",
       "      <th>sex_upon_outcome</th>\n",
       "      <th>age_upon_outcome_num</th>\n",
       "      <th>date_of_birth_dt</th>\n",
       "      <th>outcome_dt</th>\n",
       "      <th>has_name</th>\n",
       "      <th>outcome</th>\n",
       "    </tr>\n",
       "  </thead>\n",
       "  <tbody>\n",
       "    <tr>\n",
       "      <th>0</th>\n",
       "      <td>1</td>\n",
       "      <td>937</td>\n",
       "      <td>321</td>\n",
       "      <td>1</td>\n",
       "      <td>0.038462</td>\n",
       "      <td>4624</td>\n",
       "      <td>12401</td>\n",
       "      <td>False</td>\n",
       "      <td>1</td>\n",
       "    </tr>\n",
       "    <tr>\n",
       "      <th>1</th>\n",
       "      <td>2</td>\n",
       "      <td>255</td>\n",
       "      <td>474</td>\n",
       "      <td>3</td>\n",
       "      <td>1.000000</td>\n",
       "      <td>4016</td>\n",
       "      <td>1642</td>\n",
       "      <td>True</td>\n",
       "      <td>1</td>\n",
       "    </tr>\n",
       "    <tr>\n",
       "      <th>2</th>\n",
       "      <td>2</td>\n",
       "      <td>1613</td>\n",
       "      <td>119</td>\n",
       "      <td>2</td>\n",
       "      <td>1.000000</td>\n",
       "      <td>4161</td>\n",
       "      <td>9927</td>\n",
       "      <td>True</td>\n",
       "      <td>0</td>\n",
       "    </tr>\n",
       "    <tr>\n",
       "      <th>3</th>\n",
       "      <td>2</td>\n",
       "      <td>1468</td>\n",
       "      <td>463</td>\n",
       "      <td>2</td>\n",
       "      <td>9.000000</td>\n",
       "      <td>1401</td>\n",
       "      <td>10447</td>\n",
       "      <td>True</td>\n",
       "      <td>1</td>\n",
       "    </tr>\n",
       "    <tr>\n",
       "      <th>4</th>\n",
       "      <td>4</td>\n",
       "      <td>253</td>\n",
       "      <td>122</td>\n",
       "      <td>4</td>\n",
       "      <td>0.416667</td>\n",
       "      <td>4443</td>\n",
       "      <td>11509</td>\n",
       "      <td>False</td>\n",
       "      <td>1</td>\n",
       "    </tr>\n",
       "  </tbody>\n",
       "</table>\n",
       "</div>"
      ],
      "text/plain": [
       "   animal_type  breed  color  sex_upon_outcome  age_upon_outcome_num  \\\n",
       "0            1    937    321                 1              0.038462   \n",
       "1            2    255    474                 3              1.000000   \n",
       "2            2   1613    119                 2              1.000000   \n",
       "3            2   1468    463                 2              9.000000   \n",
       "4            4    253    122                 4              0.416667   \n",
       "\n",
       "   date_of_birth_dt  outcome_dt  has_name  outcome  \n",
       "0              4624       12401     False        1  \n",
       "1              4016        1642      True        1  \n",
       "2              4161        9927      True        0  \n",
       "3              1401       10447      True        1  \n",
       "4              4443       11509     False        1  "
      ]
     },
     "execution_count": 55,
     "metadata": {},
     "output_type": "execute_result"
    }
   ],
   "source": [
    "data_label_encoded.head()"
   ]
  },
  {
   "cell_type": "code",
   "execution_count": 56,
   "metadata": {},
   "outputs": [],
   "source": [
    "x = data_label_encoded.iloc[:,:8] #all rows, all the features and no outcome\n",
    "y = data_label_encoded.iloc[:,8] #all rows, outcome only\n",
    "# scaler = StandardScaler()\n",
    "# x=scaler.fit_transform(x)\n",
    "# pca = PCA(n_components=6)\n",
    "# x = pca.fit_transform(x)\n",
    "X_train, X_test, y_train, y_test = train_test_split(x,y,test_size=0.2,random_state=4)"
   ]
  },
  {
   "cell_type": "code",
   "execution_count": 57,
   "metadata": {},
   "outputs": [
    {
     "data": {
      "text/plain": [
       "outcome\n",
       "0    47616\n",
       "1    30640\n",
       "dtype: int64"
      ]
     },
     "execution_count": 57,
     "metadata": {},
     "output_type": "execute_result"
    }
   ],
   "source": [
    "#0 is adopted, 1 is not => 47,616 adopted\n",
    "data_label_encoded.groupby('outcome').size()"
   ]
  },
  {
   "cell_type": "markdown",
   "metadata": {},
   "source": [
    "## Kmeans "
   ]
  },
  {
   "cell_type": "code",
   "execution_count": 58,
   "metadata": {},
   "outputs": [],
   "source": [
    "#N=X_train[:,0:2]\n",
    "kmeans = KMeans(n_clusters=2, random_state=5)\n",
    "kmeans.fit(X_train)\n",
    "x_clustered = kmeans.predict(X_test)"
   ]
  },
  {
   "cell_type": "code",
   "execution_count": 59,
   "metadata": {},
   "outputs": [
    {
     "data": {
      "text/plain": [
       "array([1, 0, 0, ..., 1, 0, 0], dtype=int32)"
      ]
     },
     "execution_count": 59,
     "metadata": {},
     "output_type": "execute_result"
    }
   ],
   "source": [
    "x_clustered"
   ]
  },
  {
   "cell_type": "code",
   "execution_count": 60,
   "metadata": {},
   "outputs": [
    {
     "data": {
      "text/plain": [
       "0.5417199079989777"
      ]
     },
     "execution_count": 60,
     "metadata": {},
     "output_type": "execute_result"
    }
   ],
   "source": [
    "accuracy_score(y_test, x_clustered)"
   ]
  },
  {
   "cell_type": "code",
   "execution_count": 61,
   "metadata": {},
   "outputs": [],
   "source": [
    "# LABEL_MAP = {0: 1, 1: 0}\n",
    "\n",
    "# x_clustered = [LABEL_MAP[l] for l in x_clustered]"
   ]
  },
  {
   "cell_type": "code",
   "execution_count": 62,
   "metadata": {},
   "outputs": [
    {
     "data": {
      "text/plain": [
       "0.5417199079989777"
      ]
     },
     "execution_count": 62,
     "metadata": {},
     "output_type": "execute_result"
    }
   ],
   "source": [
    "accuracy_score(y_test, x_clustered)"
   ]
  },
  {
   "cell_type": "code",
   "execution_count": 63,
   "metadata": {},
   "outputs": [
    {
     "data": {
      "text/plain": [
       "array([[5087, 4447],\n",
       "       [2726, 3392]])"
      ]
     },
     "execution_count": 63,
     "metadata": {},
     "output_type": "execute_result"
    }
   ],
   "source": [
    "confusion_matrix(y_test, x_clustered, labels=[0,1])"
   ]
  },
  {
   "cell_type": "code",
   "execution_count": 64,
   "metadata": {},
   "outputs": [
    {
     "data": {
      "text/plain": [
       "0.5439968192843726"
      ]
     },
     "execution_count": 64,
     "metadata": {},
     "output_type": "execute_result"
    }
   ],
   "source": [
    "roc_auc_score(y_test, x_clustered)"
   ]
  },
  {
   "cell_type": "code",
   "execution_count": 65,
   "metadata": {},
   "outputs": [
    {
     "name": "stdout",
     "output_type": "stream",
     "text": [
      "             precision    recall  f1-score   support\n",
      "\n",
      "    adopted       0.65      0.53      0.59      9534\n",
      "not adopted       0.43      0.55      0.49      6118\n",
      "\n",
      "avg / total       0.57      0.54      0.55     15652\n",
      "\n"
     ]
    }
   ],
   "source": [
    "print(classification_report(y_test, x_clustered, target_names=['adopted', 'not adopted']))"
   ]
  },
  {
   "cell_type": "markdown",
   "metadata": {},
   "source": [
    "54% accuracy score. Only 50% on ROC. "
   ]
  },
  {
   "cell_type": "markdown",
   "metadata": {},
   "source": [
    "## Linear Regression"
   ]
  },
  {
   "cell_type": "code",
   "execution_count": 66,
   "metadata": {},
   "outputs": [
    {
     "name": "stdout",
     "output_type": "stream",
     "text": [
      "0.5519560068030125\n",
      "[ 4.20208869e-02 -2.00260829e-05 -1.00170243e-04 -8.14112270e-02\n",
      "  3.64861328e-02  9.20050380e-05 -4.33843681e-06 -5.06290472e-01]\n"
     ]
    }
   ],
   "source": [
    "lr = LinearRegression()\n",
    "lr.fit(X_train,y_train)\n",
    "print(lr.intercept_)\n",
    "print(lr.coef_)"
   ]
  },
  {
   "cell_type": "code",
   "execution_count": 67,
   "metadata": {},
   "outputs": [
    {
     "name": "stdout",
     "output_type": "stream",
     "text": [
      "[0.33052595 0.23649899 0.13310535 ... 0.20696836 0.13155748 0.68175606]\n"
     ]
    },
    {
     "data": {
      "text/plain": [
       "(array([  15., 2009., 5412., 2717.,  713.,  651., 1437., 1387., 1104.,\n",
       "         207.]),\n",
       " array([-0.0698632 ,  0.04314131,  0.15614583,  0.26915034,  0.38215486,\n",
       "         0.49515938,  0.60816389,  0.72116841,  0.83417292,  0.94717744,\n",
       "         1.06018196]),\n",
       " <a list of 10 Patch objects>)"
      ]
     },
     "execution_count": 67,
     "metadata": {},
     "output_type": "execute_result"
    },
    {
     "data": {
      "image/png": "[encoded data removed]",
      "text/plain": [
       "<Figure size 432x288 with 1 Axes>"
      ]
     },
     "metadata": {},
     "output_type": "display_data"
    }
   ],
   "source": [
    "lr_pred = lr.predict(X_test)\n",
    "print(lr_pred)\n",
    "plt.hist(lr_pred)"
   ]
  },
  {
   "cell_type": "code",
   "execution_count": 68,
   "metadata": {},
   "outputs": [],
   "source": [
    "lr_pred_outcome = [0 if x < .5 else 1 for x in lr_pred]"
   ]
  },
  {
   "cell_type": "code",
   "execution_count": 69,
   "metadata": {},
   "outputs": [
    {
     "data": {
      "text/plain": [
       "0.7574750830564784"
      ]
     },
     "execution_count": 69,
     "metadata": {},
     "output_type": "execute_result"
    }
   ],
   "source": [
    "accuracy_score(y_test, lr_pred_outcome)"
   ]
  },
  {
   "cell_type": "code",
   "execution_count": 70,
   "metadata": {},
   "outputs": [
    {
     "data": {
      "text/plain": [
       "array([[8311, 1223],\n",
       "       [2573, 3545]])"
      ]
     },
     "execution_count": 70,
     "metadata": {},
     "output_type": "execute_result"
    }
   ],
   "source": [
    "confusion_matrix(y_test, lr_pred_outcome, labels=[0,1])"
   ]
  },
  {
   "cell_type": "code",
   "execution_count": 71,
   "metadata": {},
   "outputs": [
    {
     "name": "stdout",
     "output_type": "stream",
     "text": [
      "             precision    recall  f1-score   support\n",
      "\n",
      "    adopted       0.76      0.87      0.81      9534\n",
      "not adopted       0.74      0.58      0.65      6118\n",
      "\n",
      "avg / total       0.76      0.76      0.75     15652\n",
      "\n"
     ]
    }
   ],
   "source": [
    "print(classification_report(y_test, lr_pred_outcome, target_names=['adopted', 'not adopted']))"
   ]
  },
  {
   "cell_type": "code",
   "execution_count": 72,
   "metadata": {},
   "outputs": [
    {
     "data": {
      "text/plain": [
       "0.7255799909657308"
      ]
     },
     "execution_count": 72,
     "metadata": {},
     "output_type": "execute_result"
    }
   ],
   "source": [
    "roc_auc_score(y_test, lr_pred_outcome)"
   ]
  },
  {
   "cell_type": "markdown",
   "metadata": {},
   "source": [
    "## Logistic Regression"
   ]
  },
  {
   "cell_type": "code",
   "execution_count": 73,
   "metadata": {},
   "outputs": [
    {
     "data": {
      "text/plain": [
       "(array([11048.,     0.,     0.,     0.,     0.,     0.,     0.,     0.,\n",
       "            0.,  4604.]),\n",
       " array([0. , 0.1, 0.2, 0.3, 0.4, 0.5, 0.6, 0.7, 0.8, 0.9, 1. ]),\n",
       " <a list of 10 Patch objects>)"
      ]
     },
     "execution_count": 73,
     "metadata": {},
     "output_type": "execute_result"
    },
    {
     "data": {
      "image/png": "[encoded data removed]",
      "text/plain": [
       "<Figure size 432x288 with 1 Axes>"
      ]
     },
     "metadata": {},
     "output_type": "display_data"
    }
   ],
   "source": [
    "logist = LogisticRegression()\n",
    "logist.fit(X_train,y_train)\n",
    "logpred = logist.predict(X_test)\n",
    "plt.hist(logpred)"
   ]
  },
  {
   "cell_type": "code",
   "execution_count": 74,
   "metadata": {},
   "outputs": [],
   "source": [
    "log_pred_outcome = [0 if x < .61 else 1 for x in logpred]"
   ]
  },
  {
   "cell_type": "code",
   "execution_count": 75,
   "metadata": {},
   "outputs": [
    {
     "data": {
      "text/plain": [
       "0.7514694607717863"
      ]
     },
     "execution_count": 75,
     "metadata": {},
     "output_type": "execute_result"
    }
   ],
   "source": [
    "accuracy_score(y_test, log_pred_outcome)"
   ]
  },
  {
   "cell_type": "code",
   "execution_count": 76,
   "metadata": {},
   "outputs": [
    {
     "data": {
      "text/plain": [
       "array([[8346, 1188],\n",
       "       [2702, 3416]])"
      ]
     },
     "execution_count": 76,
     "metadata": {},
     "output_type": "execute_result"
    }
   ],
   "source": [
    "confusion_matrix(y_test, log_pred_outcome, labels=[0,1])"
   ]
  },
  {
   "cell_type": "code",
   "execution_count": 77,
   "metadata": {},
   "outputs": [
    {
     "name": "stdout",
     "output_type": "stream",
     "text": [
      "             precision    recall  f1-score   support\n",
      "\n",
      "    adopted       0.76      0.88      0.81      9534\n",
      "not adopted       0.74      0.56      0.64      6118\n",
      "\n",
      "avg / total       0.75      0.75      0.74     15652\n",
      "\n"
     ]
    }
   ],
   "source": [
    "print(classification_report(y_test, log_pred_outcome, target_names=['adopted', 'not adopted']))"
   ]
  },
  {
   "cell_type": "code",
   "execution_count": 78,
   "metadata": {},
   "outputs": [
    {
     "data": {
      "text/plain": [
       "0.716872865941909"
      ]
     },
     "execution_count": 78,
     "metadata": {},
     "output_type": "execute_result"
    }
   ],
   "source": [
    "roc_auc_score(y_test, log_pred_outcome)"
   ]
  },
  {
   "cell_type": "markdown",
   "metadata": {},
   "source": [
    "## Gausian NB"
   ]
  },
  {
   "cell_type": "code",
   "execution_count": 79,
   "metadata": {},
   "outputs": [
    {
     "data": {
      "text/plain": [
       "(array([11658.,     0.,     0.,     0.,     0.,     0.,     0.,     0.,\n",
       "            0.,  3994.]),\n",
       " array([0. , 0.1, 0.2, 0.3, 0.4, 0.5, 0.6, 0.7, 0.8, 0.9, 1. ]),\n",
       " <a list of 10 Patch objects>)"
      ]
     },
     "execution_count": 79,
     "metadata": {},
     "output_type": "execute_result"
    },
    {
     "data": {
      "image/png": "[encoded data removed]",
      "text/plain": [
       "<Figure size 432x288 with 1 Axes>"
      ]
     },
     "metadata": {},
     "output_type": "display_data"
    }
   ],
   "source": [
    "model_naive = GaussianNB()\n",
    "model_naive.fit(X_train, y_train)\n",
    "nbpred = model_naive.predict(X_test)\n",
    "plt.hist(nbpred)"
   ]
  },
  {
   "cell_type": "code",
   "execution_count": 80,
   "metadata": {},
   "outputs": [],
   "source": [
    "nb_pred_outcome = [0 if x < .61 else 1 for x in nbpred]"
   ]
  },
  {
   "cell_type": "code",
   "execution_count": 81,
   "metadata": {},
   "outputs": [
    {
     "data": {
      "text/plain": [
       "0.7946588295425505"
      ]
     },
     "execution_count": 81,
     "metadata": {},
     "output_type": "execute_result"
    }
   ],
   "source": [
    "accuracy_score(y_test, nb_pred_outcome)"
   ]
  },
  {
   "cell_type": "code",
   "execution_count": 82,
   "metadata": {},
   "outputs": [
    {
     "data": {
      "text/plain": [
       "array([[8989,  545],\n",
       "       [2669, 3449]])"
      ]
     },
     "execution_count": 82,
     "metadata": {},
     "output_type": "execute_result"
    }
   ],
   "source": [
    "confusion_matrix(y_test, nb_pred_outcome, labels=[0,1])"
   ]
  },
  {
   "cell_type": "code",
   "execution_count": 83,
   "metadata": {},
   "outputs": [
    {
     "name": "stdout",
     "output_type": "stream",
     "text": [
      "             precision    recall  f1-score   support\n",
      "\n",
      "    adopted       0.77      0.94      0.85      9534\n",
      "not adopted       0.86      0.56      0.68      6118\n",
      "\n",
      "avg / total       0.81      0.79      0.78     15652\n",
      "\n"
     ]
    }
   ],
   "source": [
    "print(classification_report(y_test, nb_pred_outcome, target_names=['adopted', 'not adopted']))"
   ]
  },
  {
   "cell_type": "code",
   "execution_count": 84,
   "metadata": {},
   "outputs": [
    {
     "data": {
      "text/plain": [
       "0.7532912438153418"
      ]
     },
     "execution_count": 84,
     "metadata": {},
     "output_type": "execute_result"
    }
   ],
   "source": [
    "roc_auc_score(y_test, nb_pred_outcome)"
   ]
  },
  {
   "cell_type": "markdown",
   "metadata": {},
   "source": [
    "## SVM \n",
    "\n",
    "This was very slow and didn't have good results, so it is commented out for ease of running the notebook. "
   ]
  },
  {
   "cell_type": "code",
   "execution_count": 85,
   "metadata": {},
   "outputs": [],
   "source": [
    "#reminder, this cell is VERY slow\n",
    "#supp = SVC()\n",
    "#supp.fit(X_train,y_train)"
   ]
  },
  {
   "cell_type": "code",
   "execution_count": 86,
   "metadata": {},
   "outputs": [],
   "source": [
    "#svm_pred = supp.predict(X_test)\n",
    "#print(ypred)"
   ]
  },
  {
   "cell_type": "code",
   "execution_count": 87,
   "metadata": {},
   "outputs": [],
   "source": [
    "#accuracy_score(y_test, ypred)"
   ]
  },
  {
   "cell_type": "code",
   "execution_count": 88,
   "metadata": {},
   "outputs": [],
   "source": [
    "#confusion_matrix(y_test, ypred)"
   ]
  },
  {
   "cell_type": "code",
   "execution_count": 89,
   "metadata": {},
   "outputs": [],
   "source": [
    "#print(classification_report(y_test, ypred, target_names=['adopted', 'not adopted']))"
   ]
  },
  {
   "cell_type": "code",
   "execution_count": 90,
   "metadata": {},
   "outputs": [],
   "source": [
    "#roc_auc_score(y_test, ypred)"
   ]
  },
  {
   "cell_type": "markdown",
   "metadata": {},
   "source": [
    "## Decision Tree "
   ]
  },
  {
   "cell_type": "code",
   "execution_count": 91,
   "metadata": {},
   "outputs": [
    {
     "data": {
      "text/plain": [
       "(array([9338.,    0.,    0.,    0.,    0.,    0.,    0.,    0.,    0.,\n",
       "        6314.]),\n",
       " array([0. , 0.1, 0.2, 0.3, 0.4, 0.5, 0.6, 0.7, 0.8, 0.9, 1. ]),\n",
       " <a list of 10 Patch objects>)"
      ]
     },
     "execution_count": 91,
     "metadata": {},
     "output_type": "execute_result"
    },
    {
     "data": {
      "image/png": "[encoded data removed]",
      "text/plain": [
       "<Figure size 432x288 with 1 Axes>"
      ]
     },
     "metadata": {},
     "output_type": "display_data"
    }
   ],
   "source": [
    "model_tree = DecisionTreeClassifier()\n",
    "model_tree.fit(X_train, y_train)\n",
    "dtpred = model_tree.predict(X_test)\n",
    "plt.hist(dtpred)"
   ]
  },
  {
   "cell_type": "code",
   "execution_count": 92,
   "metadata": {},
   "outputs": [],
   "source": [
    "dt_pred_outcome = [0 if x< .5 else 1 for x in dtpred]"
   ]
  },
  {
   "cell_type": "code",
   "execution_count": 93,
   "metadata": {},
   "outputs": [
    {
     "data": {
      "text/plain": [
       "0.7846920521339126"
      ]
     },
     "execution_count": 93,
     "metadata": {},
     "output_type": "execute_result"
    }
   ],
   "source": [
    "accuracy_score(y_test,dt_pred_outcome)"
   ]
  },
  {
   "cell_type": "code",
   "execution_count": 94,
   "metadata": {},
   "outputs": [
    {
     "data": {
      "text/plain": [
       "array([[7751, 1783],\n",
       "       [1587, 4531]])"
      ]
     },
     "execution_count": 94,
     "metadata": {},
     "output_type": "execute_result"
    }
   ],
   "source": [
    "confusion_matrix(y_test, dt_pred_outcome)"
   ]
  },
  {
   "cell_type": "code",
   "execution_count": 95,
   "metadata": {},
   "outputs": [
    {
     "name": "stdout",
     "output_type": "stream",
     "text": [
      "             precision    recall  f1-score   support\n",
      "\n",
      "    adopted       0.83      0.81      0.82      9534\n",
      "not adopted       0.72      0.74      0.73      6118\n",
      "\n",
      "avg / total       0.79      0.78      0.79     15652\n",
      "\n"
     ]
    }
   ],
   "source": [
    "print(classification_report(y_test, dt_pred_outcome, target_names=['adopted', 'not adopted']))"
   ]
  },
  {
   "cell_type": "code",
   "execution_count": 96,
   "metadata": {},
   "outputs": [
    {
     "data": {
      "text/plain": [
       "0.7767933048480231"
      ]
     },
     "execution_count": 96,
     "metadata": {},
     "output_type": "execute_result"
    }
   ],
   "source": [
    "roc_auc_score(y_test, dt_pred_outcome)"
   ]
  },
  {
   "cell_type": "markdown",
   "metadata": {},
   "source": [
    "With LabelEncoding, Decisions Trees had the best accuracy score and area under the roc curve. KMeans had the worst metrics.  "
   ]
  },
  {
   "cell_type": "markdown",
   "metadata": {},
   "source": [
    "## One-Hot Encoding and LabelEncoding"
   ]
  },
  {
   "cell_type": "code",
   "execution_count": 97,
   "metadata": {},
   "outputs": [
    {
     "data": {
      "text/plain": [
       "Index(['animal_type', 'breed', 'color', 'sex_upon_outcome',\n",
       "       'age_upon_outcome_num', 'date_of_birth_dt', 'outcome_dt', 'has_name',\n",
       "       'outcome'],\n",
       "      dtype='object')"
      ]
     },
     "execution_count": 97,
     "metadata": {},
     "output_type": "execute_result"
    }
   ],
   "source": [
    "data.columns"
   ]
  },
  {
   "cell_type": "code",
   "execution_count": 98,
   "metadata": {},
   "outputs": [
    {
     "data": {
      "text/html": [
       "<div>\n",
       "<style scoped>\n",
       "    .dataframe tbody tr th:only-of-type {\n",
       "        vertical-align: middle;\n",
       "    }\n",
       "\n",
       "    .dataframe tbody tr th {\n",
       "        vertical-align: top;\n",
       "    }\n",
       "\n",
       "    .dataframe thead th {\n",
       "        text-align: right;\n",
       "    }\n",
       "</style>\n",
       "<table border=\"1\" class=\"dataframe\">\n",
       "  <thead>\n",
       "    <tr style=\"text-align: right;\">\n",
       "      <th></th>\n",
       "      <th>age_upon_outcome_num</th>\n",
       "      <th>date_of_birth_dt</th>\n",
       "      <th>outcome_dt</th>\n",
       "      <th>has_name</th>\n",
       "      <th>outcome</th>\n",
       "      <th>animal_type_Bird</th>\n",
       "      <th>animal_type_Cat</th>\n",
       "      <th>animal_type_Dog</th>\n",
       "      <th>animal_type_Livestock</th>\n",
       "      <th>animal_type_Other</th>\n",
       "      <th>...</th>\n",
       "      <th>color_Yellow/Orange</th>\n",
       "      <th>color_Yellow/Orange Tabby</th>\n",
       "      <th>color_Yellow/Tan</th>\n",
       "      <th>color_Yellow/White</th>\n",
       "      <th>color_Yellow/Yellow</th>\n",
       "      <th>sex_upon_outcome_Intact Female</th>\n",
       "      <th>sex_upon_outcome_Intact Male</th>\n",
       "      <th>sex_upon_outcome_Neutered Male</th>\n",
       "      <th>sex_upon_outcome_Spayed Female</th>\n",
       "      <th>sex_upon_outcome_Unknown</th>\n",
       "    </tr>\n",
       "  </thead>\n",
       "  <tbody>\n",
       "    <tr>\n",
       "      <th>0</th>\n",
       "      <td>0.038462</td>\n",
       "      <td>4624</td>\n",
       "      <td>12401</td>\n",
       "      <td>False</td>\n",
       "      <td>1</td>\n",
       "      <td>0</td>\n",
       "      <td>1</td>\n",
       "      <td>0</td>\n",
       "      <td>0</td>\n",
       "      <td>0</td>\n",
       "      <td>...</td>\n",
       "      <td>0</td>\n",
       "      <td>0</td>\n",
       "      <td>0</td>\n",
       "      <td>0</td>\n",
       "      <td>0</td>\n",
       "      <td>0</td>\n",
       "      <td>1</td>\n",
       "      <td>0</td>\n",
       "      <td>0</td>\n",
       "      <td>0</td>\n",
       "    </tr>\n",
       "    <tr>\n",
       "      <th>1</th>\n",
       "      <td>1.000000</td>\n",
       "      <td>4016</td>\n",
       "      <td>1642</td>\n",
       "      <td>True</td>\n",
       "      <td>1</td>\n",
       "      <td>0</td>\n",
       "      <td>0</td>\n",
       "      <td>1</td>\n",
       "      <td>0</td>\n",
       "      <td>0</td>\n",
       "      <td>...</td>\n",
       "      <td>0</td>\n",
       "      <td>0</td>\n",
       "      <td>0</td>\n",
       "      <td>0</td>\n",
       "      <td>0</td>\n",
       "      <td>0</td>\n",
       "      <td>0</td>\n",
       "      <td>0</td>\n",
       "      <td>1</td>\n",
       "      <td>0</td>\n",
       "    </tr>\n",
       "    <tr>\n",
       "      <th>2</th>\n",
       "      <td>1.000000</td>\n",
       "      <td>4161</td>\n",
       "      <td>9927</td>\n",
       "      <td>True</td>\n",
       "      <td>0</td>\n",
       "      <td>0</td>\n",
       "      <td>0</td>\n",
       "      <td>1</td>\n",
       "      <td>0</td>\n",
       "      <td>0</td>\n",
       "      <td>...</td>\n",
       "      <td>0</td>\n",
       "      <td>0</td>\n",
       "      <td>0</td>\n",
       "      <td>0</td>\n",
       "      <td>0</td>\n",
       "      <td>0</td>\n",
       "      <td>0</td>\n",
       "      <td>1</td>\n",
       "      <td>0</td>\n",
       "      <td>0</td>\n",
       "    </tr>\n",
       "    <tr>\n",
       "      <th>3</th>\n",
       "      <td>9.000000</td>\n",
       "      <td>1401</td>\n",
       "      <td>10447</td>\n",
       "      <td>True</td>\n",
       "      <td>1</td>\n",
       "      <td>0</td>\n",
       "      <td>0</td>\n",
       "      <td>1</td>\n",
       "      <td>0</td>\n",
       "      <td>0</td>\n",
       "      <td>...</td>\n",
       "      <td>0</td>\n",
       "      <td>0</td>\n",
       "      <td>0</td>\n",
       "      <td>0</td>\n",
       "      <td>0</td>\n",
       "      <td>0</td>\n",
       "      <td>0</td>\n",
       "      <td>1</td>\n",
       "      <td>0</td>\n",
       "      <td>0</td>\n",
       "    </tr>\n",
       "    <tr>\n",
       "      <th>4</th>\n",
       "      <td>0.416667</td>\n",
       "      <td>4443</td>\n",
       "      <td>11509</td>\n",
       "      <td>False</td>\n",
       "      <td>1</td>\n",
       "      <td>0</td>\n",
       "      <td>0</td>\n",
       "      <td>0</td>\n",
       "      <td>0</td>\n",
       "      <td>1</td>\n",
       "      <td>...</td>\n",
       "      <td>0</td>\n",
       "      <td>0</td>\n",
       "      <td>0</td>\n",
       "      <td>0</td>\n",
       "      <td>0</td>\n",
       "      <td>0</td>\n",
       "      <td>0</td>\n",
       "      <td>0</td>\n",
       "      <td>0</td>\n",
       "      <td>1</td>\n",
       "    </tr>\n",
       "  </tbody>\n",
       "</table>\n",
       "<p>5 rows × 2668 columns</p>\n",
       "</div>"
      ],
      "text/plain": [
       "   age_upon_outcome_num  date_of_birth_dt  outcome_dt  has_name  outcome  \\\n",
       "0              0.038462              4624       12401     False        1   \n",
       "1              1.000000              4016        1642      True        1   \n",
       "2              1.000000              4161        9927      True        0   \n",
       "3              9.000000              1401       10447      True        1   \n",
       "4              0.416667              4443       11509     False        1   \n",
       "\n",
       "   animal_type_Bird  animal_type_Cat  animal_type_Dog  animal_type_Livestock  \\\n",
       "0                 0                1                0                      0   \n",
       "1                 0                0                1                      0   \n",
       "2                 0                0                1                      0   \n",
       "3                 0                0                1                      0   \n",
       "4                 0                0                0                      0   \n",
       "\n",
       "   animal_type_Other            ...             color_Yellow/Orange  \\\n",
       "0                  0            ...                               0   \n",
       "1                  0            ...                               0   \n",
       "2                  0            ...                               0   \n",
       "3                  0            ...                               0   \n",
       "4                  1            ...                               0   \n",
       "\n",
       "   color_Yellow/Orange Tabby  color_Yellow/Tan  color_Yellow/White  \\\n",
       "0                          0                 0                   0   \n",
       "1                          0                 0                   0   \n",
       "2                          0                 0                   0   \n",
       "3                          0                 0                   0   \n",
       "4                          0                 0                   0   \n",
       "\n",
       "   color_Yellow/Yellow  sex_upon_outcome_Intact Female  \\\n",
       "0                    0                               0   \n",
       "1                    0                               0   \n",
       "2                    0                               0   \n",
       "3                    0                               0   \n",
       "4                    0                               0   \n",
       "\n",
       "   sex_upon_outcome_Intact Male  sex_upon_outcome_Neutered Male  \\\n",
       "0                             1                               0   \n",
       "1                             0                               0   \n",
       "2                             0                               1   \n",
       "3                             0                               1   \n",
       "4                             0                               0   \n",
       "\n",
       "   sex_upon_outcome_Spayed Female  sex_upon_outcome_Unknown  \n",
       "0                               0                         0  \n",
       "1                               1                         0  \n",
       "2                               0                         0  \n",
       "3                               0                         0  \n",
       "4                               0                         1  \n",
       "\n",
       "[5 rows x 2668 columns]"
      ]
     },
     "execution_count": 98,
     "metadata": {},
     "output_type": "execute_result"
    }
   ],
   "source": [
    "data_one_hot = data.copy()\n",
    "data_one_hot['outcome'] = labelencoder.fit_transform(data_one_hot['outcome'])\n",
    "data_one_hot['date_of_birth_dt'] = labelencoder.fit_transform(data_one_hot['date_of_birth_dt'])\n",
    "data_one_hot['outcome_dt'] = labelencoder.fit_transform(data_one_hot['outcome_dt'])\n",
    "cols_to_transform = ['animal_type', 'breed', 'color', 'sex_upon_outcome']\n",
    "df_with_dummies = pd.get_dummies( columns = cols_to_transform, data=data_one_hot )\n",
    "df_with_dummies.head(5)"
   ]
  },
  {
   "cell_type": "code",
   "execution_count": 99,
   "metadata": {},
   "outputs": [
    {
     "data": {
      "text/plain": [
       "2667"
      ]
     },
     "execution_count": 99,
     "metadata": {},
     "output_type": "execute_result"
    }
   ],
   "source": [
    "y_indices = [0,1,2,3] + list(range(5,2668))\n",
    "len(y_indices)"
   ]
  },
  {
   "cell_type": "code",
   "execution_count": 100,
   "metadata": {},
   "outputs": [],
   "source": [
    "x = df_with_dummies.iloc[:,y_indices] #all rows, all the features and no outcome\n",
    "y = df_with_dummies.iloc[:,4] #all rows, outcome only\n",
    "# scaler = StandardScaler()\n",
    "# x=scaler.fit_transform(x)\n",
    "# pca = PCA(n_components=6)\n",
    "# x = pca.fit_transform(x)\n",
    "X_train, X_test, y_train, y_test = train_test_split(x,y,test_size=0.2,random_state=4)"
   ]
  },
  {
   "cell_type": "code",
   "execution_count": 101,
   "metadata": {},
   "outputs": [
    {
     "data": {
      "text/plain": [
       "0    1\n",
       "1    1\n",
       "2    0\n",
       "3    1\n",
       "4    1\n",
       "Name: outcome, dtype: int64"
      ]
     },
     "execution_count": 101,
     "metadata": {},
     "output_type": "execute_result"
    }
   ],
   "source": [
    "y.head()"
   ]
  },
  {
   "cell_type": "markdown",
   "metadata": {},
   "source": [
    "## Linear Regression"
   ]
  },
  {
   "cell_type": "code",
   "execution_count": 102,
   "metadata": {},
   "outputs": [
    {
     "name": "stdout",
     "output_type": "stream",
     "text": [
      "1.2041993807651152\n",
      "[-2.98731042e-02 -1.21817619e-04  7.87146954e-07 ... -2.82835199e-01\n",
      " -2.94758150e-01  2.43231465e-01]\n"
     ]
    }
   ],
   "source": [
    "lr = LinearRegression()\n",
    "lr.fit(X_train,y_train)\n",
    "print(lr.intercept_)\n",
    "print(lr.coef_)"
   ]
  },
  {
   "cell_type": "code",
   "execution_count": 103,
   "metadata": {},
   "outputs": [
    {
     "name": "stdout",
     "output_type": "stream",
     "text": [
      "[0.18320158 0.0934981  0.18192669 ... 0.1456806  0.16223214 0.93415333]\n"
     ]
    },
    {
     "data": {
      "text/plain": [
       "(array([9.000e+00, 6.100e+01, 3.470e+03, 6.061e+03, 2.257e+03, 1.579e+03,\n",
       "        2.190e+03, 1.800e+01, 4.000e+00, 3.000e+00]),\n",
       " array([-0.63699623, -0.38134677, -0.12569732,  0.12995214,  0.3856016 ,\n",
       "         0.64125106,  0.89690051,  1.15254997,  1.40819943,  1.66384888,\n",
       "         1.91949834]),\n",
       " <a list of 10 Patch objects>)"
      ]
     },
     "execution_count": 103,
     "metadata": {},
     "output_type": "execute_result"
    },
    {
     "data": {
      "image/png": "[encoded data removed]",
      "text/plain": [
       "<Figure size 432x288 with 1 Axes>"
      ]
     },
     "metadata": {},
     "output_type": "display_data"
    }
   ],
   "source": [
    "lrpred = lr.predict(X_test)\n",
    "print(lrpred)\n",
    "plt.hist(lrpred)"
   ]
  },
  {
   "cell_type": "code",
   "execution_count": 104,
   "metadata": {},
   "outputs": [],
   "source": [
    "lr_pred_outcome = [0 if x < .5 else 1 for x in lrpred]"
   ]
  },
  {
   "cell_type": "code",
   "execution_count": 105,
   "metadata": {},
   "outputs": [
    {
     "data": {
      "text/plain": [
       "0.815742397137746"
      ]
     },
     "execution_count": 105,
     "metadata": {},
     "output_type": "execute_result"
    }
   ],
   "source": [
    "lr_accuracy = accuracy_score(y_test, lr_pred_outcome)\n",
    "lr_accuracy"
   ]
  },
  {
   "cell_type": "code",
   "execution_count": 106,
   "metadata": {},
   "outputs": [
    {
     "data": {
      "text/plain": [
       "array([[8674,  860],\n",
       "       [2024, 4094]])"
      ]
     },
     "execution_count": 106,
     "metadata": {},
     "output_type": "execute_result"
    }
   ],
   "source": [
    "lr_conf_matrix = confusion_matrix(y_test, lr_pred_outcome, labels=[0,1])\n",
    "lr_conf_matrix"
   ]
  },
  {
   "cell_type": "code",
   "execution_count": 107,
   "metadata": {},
   "outputs": [
    {
     "data": {
      "text/plain": [
       "0.7894847250284301"
      ]
     },
     "execution_count": 107,
     "metadata": {},
     "output_type": "execute_result"
    }
   ],
   "source": [
    "lr_roc = roc_auc_score(y_test, lr_pred_outcome)\n",
    "lr_roc"
   ]
  },
  {
   "cell_type": "markdown",
   "metadata": {},
   "source": [
    "## Logistic Regression"
   ]
  },
  {
   "cell_type": "code",
   "execution_count": 108,
   "metadata": {},
   "outputs": [
    {
     "data": {
      "text/plain": [
       "(array([11309.,     0.,     0.,     0.,     0.,     0.,     0.,     0.,\n",
       "            0.,  4343.]),\n",
       " array([0. , 0.1, 0.2, 0.3, 0.4, 0.5, 0.6, 0.7, 0.8, 0.9, 1. ]),\n",
       " <a list of 10 Patch objects>)"
      ]
     },
     "execution_count": 108,
     "metadata": {},
     "output_type": "execute_result"
    },
    {
     "data": {
      "image/png": "[encoded data removed]",
      "text/plain": [
       "<Figure size 432x288 with 1 Axes>"
      ]
     },
     "metadata": {},
     "output_type": "display_data"
    }
   ],
   "source": [
    "logit = LogisticRegression()\n",
    "logit.fit(X_train,y_train)\n",
    "logpred = logit.predict(X_test)\n",
    "plt.hist(logpred)"
   ]
  },
  {
   "cell_type": "code",
   "execution_count": 109,
   "metadata": {},
   "outputs": [
    {
     "data": {
      "text/plain": [
       "0.8094173268591873"
      ]
     },
     "execution_count": 109,
     "metadata": {},
     "output_type": "execute_result"
    }
   ],
   "source": [
    "log_pred_outcome = [0 if x < .5 else 1 for x in logpred]\n",
    "log_accuracy = accuracy_score(y_test, log_pred_outcome)\n",
    "log_accuracy "
   ]
  },
  {
   "cell_type": "code",
   "execution_count": 110,
   "metadata": {},
   "outputs": [
    {
     "data": {
      "text/plain": [
       "array([[8930,  604],\n",
       "       [2379, 3739]])"
      ]
     },
     "execution_count": 110,
     "metadata": {},
     "output_type": "execute_result"
    }
   ],
   "source": [
    "log_conf_matrix = confusion_matrix(y_test, log_pred_outcome, labels=[0,1])\n",
    "log_conf_matrix"
   ]
  },
  {
   "cell_type": "code",
   "execution_count": 111,
   "metadata": {},
   "outputs": [
    {
     "data": {
      "text/plain": [
       "0.7738976103349736"
      ]
     },
     "execution_count": 111,
     "metadata": {},
     "output_type": "execute_result"
    }
   ],
   "source": [
    "log_roc = roc_auc_score(y_test, log_pred_outcome)\n",
    "log_roc"
   ]
  },
  {
   "cell_type": "markdown",
   "metadata": {},
   "source": [
    "## GausianNB "
   ]
  },
  {
   "cell_type": "code",
   "execution_count": 112,
   "metadata": {},
   "outputs": [
    {
     "data": {
      "text/plain": [
       "(array([11420.,     0.,     0.,     0.,     0.,     0.,     0.,     0.,\n",
       "            0.,  4232.]),\n",
       " array([0. , 0.1, 0.2, 0.3, 0.4, 0.5, 0.6, 0.7, 0.8, 0.9, 1. ]),\n",
       " <a list of 10 Patch objects>)"
      ]
     },
     "execution_count": 112,
     "metadata": {},
     "output_type": "execute_result"
    },
    {
     "data": {
      "image/png": "[encoded data removed]",
      "text/plain": [
       "<Figure size 432x288 with 1 Axes>"
      ]
     },
     "metadata": {},
     "output_type": "display_data"
    }
   ],
   "source": [
    "model_naive = GaussianNB()\n",
    "model_naive.fit(X_train, y_train)\n",
    "nbpred = model_naive.predict(X_test)\n",
    "plt.hist(nbpred)"
   ]
  },
  {
   "cell_type": "code",
   "execution_count": 113,
   "metadata": {},
   "outputs": [
    {
     "data": {
      "text/plain": [
       "0.8016866854076157"
      ]
     },
     "execution_count": 113,
     "metadata": {},
     "output_type": "execute_result"
    }
   ],
   "source": [
    "nb_pred_outcome = [0 if x < .5 else 1 for x in nbpred]\n",
    "gnb_accuracy = accuracy_score(y_test, nb_pred_outcome)\n",
    "gnb_accuracy "
   ]
  },
  {
   "cell_type": "code",
   "execution_count": 114,
   "metadata": {},
   "outputs": [
    {
     "data": {
      "text/plain": [
       "array([[8925,  609],\n",
       "       [2495, 3623]])"
      ]
     },
     "execution_count": 114,
     "metadata": {},
     "output_type": "execute_result"
    }
   ],
   "source": [
    "nb_conf_matrix = confusion_matrix(y_test, nb_pred_outcome, labels=[0,1])\n",
    "nb_conf_matrix"
   ]
  },
  {
   "cell_type": "code",
   "execution_count": 115,
   "metadata": {},
   "outputs": [
    {
     "data": {
      "text/plain": [
       "0.7641551686148911"
      ]
     },
     "execution_count": 115,
     "metadata": {},
     "output_type": "execute_result"
    }
   ],
   "source": [
    "gnb_roc = roc_auc_score(y_test, nb_pred_outcome)\n",
    "gnb_roc"
   ]
  },
  {
   "cell_type": "markdown",
   "metadata": {},
   "source": [
    "## Decision Tree"
   ]
  },
  {
   "cell_type": "code",
   "execution_count": 116,
   "metadata": {},
   "outputs": [
    {
     "data": {
      "text/plain": [
       "(array([9680.,    0.,    0.,    0.,    0.,    0.,    0.,    0.,    0.,\n",
       "        5972.]),\n",
       " array([0. , 0.1, 0.2, 0.3, 0.4, 0.5, 0.6, 0.7, 0.8, 0.9, 1. ]),\n",
       " <a list of 10 Patch objects>)"
      ]
     },
     "execution_count": 116,
     "metadata": {},
     "output_type": "execute_result"
    },
    {
     "data": {
      "image/png": "[encoded data removed]",
      "text/plain": [
       "<Figure size 432x288 with 1 Axes>"
      ]
     },
     "metadata": {},
     "output_type": "display_data"
    }
   ],
   "source": [
    "model_tree = DecisionTreeClassifier()\n",
    "model_tree.fit(X_train, y_train)\n",
    "dtpred = model_tree.predict(X_test)\n",
    "plt.hist(dtpred)"
   ]
  },
  {
   "cell_type": "code",
   "execution_count": 117,
   "metadata": {},
   "outputs": [
    {
     "data": {
      "text/plain": [
       "0.7982366470738563"
      ]
     },
     "execution_count": 117,
     "metadata": {},
     "output_type": "execute_result"
    }
   ],
   "source": [
    "dt_pred_outcome = [0 if x < .5 else 1 for x in dtpred]\n",
    "tree_accuracy = accuracy_score(y_test, dt_pred_outcome)\n",
    "tree_accuracy"
   ]
  },
  {
   "cell_type": "code",
   "execution_count": 118,
   "metadata": {},
   "outputs": [
    {
     "data": {
      "text/plain": [
       "array([[8028, 1506],\n",
       "       [1652, 4466]])"
      ]
     },
     "execution_count": 118,
     "metadata": {},
     "output_type": "execute_result"
    }
   ],
   "source": [
    "dt_conf_matrix = confusion_matrix(y_test, dt_pred_outcome, labels=[0,1])\n",
    "dt_conf_matrix"
   ]
  },
  {
   "cell_type": "code",
   "execution_count": 119,
   "metadata": {},
   "outputs": [
    {
     "data": {
      "text/plain": [
       "0.7860080674776387"
      ]
     },
     "execution_count": 119,
     "metadata": {},
     "output_type": "execute_result"
    }
   ],
   "source": [
    "tree_roc = roc_auc_score(y_test, dt_pred_outcome)\n",
    "tree_roc "
   ]
  },
  {
   "cell_type": "markdown",
   "metadata": {},
   "source": [
    "## Comparisons and Conclusion"
   ]
  },
  {
   "cell_type": "code",
   "execution_count": 120,
   "metadata": {},
   "outputs": [
    {
     "data": {
      "text/plain": [
       "<BarContainer object of 4 artists>"
      ]
     },
     "execution_count": 120,
     "metadata": {},
     "output_type": "execute_result"
    },
    {
     "data": {
      "image/png": "[encoded data removed]",
      "text/plain": [
       "<Figure size 432x288 with 1 Axes>"
      ]
     },
     "metadata": {},
     "output_type": "display_data"
    }
   ],
   "source": [
    "labels = ['Linear Regression', 'Logistic Regression', 'Naive Bayes', 'Decision Tree']\n",
    "plt.xticks(rotation='vertical')\n",
    "plt.xlabel('Algorithms')\n",
    "plt.ylabel('Accuracy Score')\n",
    "plt.bar(labels,[lr_accuracy,log_accuracy,gnb_accuracy,tree_accuracy])"
   ]
  },
  {
   "cell_type": "code",
   "execution_count": 121,
   "metadata": {},
   "outputs": [
    {
     "data": {
      "text/plain": [
       "<BarContainer object of 4 artists>"
      ]
     },
     "execution_count": 121,
     "metadata": {},
     "output_type": "execute_result"
    },
    {
     "data": {
      "image/png": "[encoded data removed]",
      "text/plain": [
       "<Figure size 432x288 with 1 Axes>"
      ]
     },
     "metadata": {},
     "output_type": "display_data"
    }
   ],
   "source": [
    "labels = ['Linear Regression', 'Logistic Regression', 'Naive Bayes', 'Decision Tree']\n",
    "plt.xticks(rotation='vertical')\n",
    "plt.xlabel('Algorithms')\n",
    "plt.ylabel('ROC AUC')\n",
    "plt.bar(labels,[lr_roc,log_roc,gnb_roc,tree_roc])"
   ]
  },
  {
   "cell_type": "code",
   "execution_count": 122,
   "metadata": {},
   "outputs": [
    {
     "name": "stdout",
     "output_type": "stream",
     "text": [
      "Linear Regression Confusion Matrix\n",
      " [[8674  860]\n",
      " [2024 4094]]\n"
     ]
    }
   ],
   "source": [
    "print(\"Linear Regression Confusion Matrix\\n\", lr_conf_matrix)"
   ]
  },
  {
   "cell_type": "code",
   "execution_count": 123,
   "metadata": {},
   "outputs": [
    {
     "name": "stdout",
     "output_type": "stream",
     "text": [
      "Logistic Regression Confusion Matrix\n",
      " [[8930  604]\n",
      " [2379 3739]]\n"
     ]
    }
   ],
   "source": [
    "print(\"Logistic Regression Confusion Matrix\\n\", log_conf_matrix)"
   ]
  },
  {
   "cell_type": "code",
   "execution_count": 124,
   "metadata": {},
   "outputs": [
    {
     "name": "stdout",
     "output_type": "stream",
     "text": [
      "Naive Bayes Confusion Matrix\n",
      " [[8925  609]\n",
      " [2495 3623]]\n"
     ]
    }
   ],
   "source": [
    "print(\"Naive Bayes Confusion Matrix\\n\", nb_conf_matrix)"
   ]
  },
  {
   "cell_type": "code",
   "execution_count": 125,
   "metadata": {},
   "outputs": [
    {
     "name": "stdout",
     "output_type": "stream",
     "text": [
      "Decision Tree Confusion Matrix\n",
      " [[8028 1506]\n",
      " [1652 4466]]\n"
     ]
    }
   ],
   "source": [
    "print(\"Decision Tree Confusion Matrix\\n\", dt_conf_matrix)"
   ]
  },
  {
   "cell_type": "markdown",
   "metadata": {},
   "source": [
    "With One Hot Encoding mixed with Label Encoding, all of the models performed better than they did with label encoding alone. All three performed pretty combarabily in both accuracy score and in area under the roc curve. Surpirisingly, linear regression ended up having higher metrics than both Naive Bayes and Decision Tree. "
   ]
  },
  {
   "cell_type": "markdown",
   "metadata": {},
   "source": [
    "# Post Midterm Additional Exploring"
   ]
  },
  {
   "cell_type": "markdown",
   "metadata": {},
   "source": [
    "## Incorrectly Classified rows "
   ]
  },
  {
   "cell_type": "code",
   "execution_count": 126,
   "metadata": {},
   "outputs": [
    {
     "data": {
      "text/html": [
       "<div>\n",
       "<style scoped>\n",
       "    .dataframe tbody tr th:only-of-type {\n",
       "        vertical-align: middle;\n",
       "    }\n",
       "\n",
       "    .dataframe tbody tr th {\n",
       "        vertical-align: top;\n",
       "    }\n",
       "\n",
       "    .dataframe thead th {\n",
       "        text-align: right;\n",
       "    }\n",
       "</style>\n",
       "<table border=\"1\" class=\"dataframe\">\n",
       "  <thead>\n",
       "    <tr style=\"text-align: right;\">\n",
       "      <th></th>\n",
       "      <th>animal_type</th>\n",
       "      <th>breed</th>\n",
       "      <th>color</th>\n",
       "      <th>sex_upon_outcome</th>\n",
       "      <th>age_upon_outcome_num</th>\n",
       "      <th>date_of_birth_dt</th>\n",
       "      <th>outcome_dt</th>\n",
       "      <th>has_name</th>\n",
       "      <th>outcome</th>\n",
       "    </tr>\n",
       "  </thead>\n",
       "  <tbody>\n",
       "    <tr>\n",
       "      <th>0</th>\n",
       "      <td>Cat</td>\n",
       "      <td>Domestic Shorthair Mix</td>\n",
       "      <td>Orange Tabby</td>\n",
       "      <td>Intact Male</td>\n",
       "      <td>0.038462</td>\n",
       "      <td>2014-07-07</td>\n",
       "      <td>2014-07-22 16:04:00</td>\n",
       "      <td>False</td>\n",
       "      <td>not</td>\n",
       "    </tr>\n",
       "    <tr>\n",
       "      <th>1</th>\n",
       "      <td>Dog</td>\n",
       "      <td>Beagle Mix</td>\n",
       "      <td>White/Brown</td>\n",
       "      <td>Spayed Female</td>\n",
       "      <td>1.000000</td>\n",
       "      <td>2012-11-06</td>\n",
       "      <td>2013-11-07 11:47:00</td>\n",
       "      <td>True</td>\n",
       "      <td>not</td>\n",
       "    </tr>\n",
       "    <tr>\n",
       "      <th>2</th>\n",
       "      <td>Dog</td>\n",
       "      <td>Pit Bull</td>\n",
       "      <td>Blue/White</td>\n",
       "      <td>Neutered Male</td>\n",
       "      <td>1.000000</td>\n",
       "      <td>2013-03-31</td>\n",
       "      <td>2014-06-03 14:20:00</td>\n",
       "      <td>True</td>\n",
       "      <td>adopted</td>\n",
       "    </tr>\n",
       "    <tr>\n",
       "      <th>3</th>\n",
       "      <td>Dog</td>\n",
       "      <td>Miniature Schnauzer Mix</td>\n",
       "      <td>White</td>\n",
       "      <td>Neutered Male</td>\n",
       "      <td>9.000000</td>\n",
       "      <td>2005-06-02</td>\n",
       "      <td>2014-06-15 15:50:00</td>\n",
       "      <td>True</td>\n",
       "      <td>not</td>\n",
       "    </tr>\n",
       "    <tr>\n",
       "      <th>4</th>\n",
       "      <td>Other</td>\n",
       "      <td>Bat Mix</td>\n",
       "      <td>Brown</td>\n",
       "      <td>Unknown</td>\n",
       "      <td>0.416667</td>\n",
       "      <td>2014-01-07</td>\n",
       "      <td>2014-07-07 14:04:00</td>\n",
       "      <td>False</td>\n",
       "      <td>not</td>\n",
       "    </tr>\n",
       "  </tbody>\n",
       "</table>\n",
       "</div>"
      ],
      "text/plain": [
       "  animal_type                    breed         color sex_upon_outcome  \\\n",
       "0         Cat   Domestic Shorthair Mix  Orange Tabby      Intact Male   \n",
       "1         Dog               Beagle Mix   White/Brown    Spayed Female   \n",
       "2         Dog                 Pit Bull    Blue/White    Neutered Male   \n",
       "3         Dog  Miniature Schnauzer Mix         White    Neutered Male   \n",
       "4       Other                  Bat Mix         Brown          Unknown   \n",
       "\n",
       "   age_upon_outcome_num date_of_birth_dt          outcome_dt  has_name  \\\n",
       "0              0.038462       2014-07-07 2014-07-22 16:04:00     False   \n",
       "1              1.000000       2012-11-06 2013-11-07 11:47:00      True   \n",
       "2              1.000000       2013-03-31 2014-06-03 14:20:00      True   \n",
       "3              9.000000       2005-06-02 2014-06-15 15:50:00      True   \n",
       "4              0.416667       2014-01-07 2014-07-07 14:04:00     False   \n",
       "\n",
       "   outcome  \n",
       "0      not  \n",
       "1      not  \n",
       "2  adopted  \n",
       "3      not  \n",
       "4      not  "
      ]
     },
     "execution_count": 126,
     "metadata": {},
     "output_type": "execute_result"
    }
   ],
   "source": [
    "data.head()"
   ]
  },
  {
   "cell_type": "code",
   "execution_count": 127,
   "metadata": {},
   "outputs": [
    {
     "data": {
      "text/html": [
       "<div>\n",
       "<style scoped>\n",
       "    .dataframe tbody tr th:only-of-type {\n",
       "        vertical-align: middle;\n",
       "    }\n",
       "\n",
       "    .dataframe tbody tr th {\n",
       "        vertical-align: top;\n",
       "    }\n",
       "\n",
       "    .dataframe thead th {\n",
       "        text-align: right;\n",
       "    }\n",
       "</style>\n",
       "<table border=\"1\" class=\"dataframe\">\n",
       "  <thead>\n",
       "    <tr style=\"text-align: right;\">\n",
       "      <th></th>\n",
       "      <th>animal_type</th>\n",
       "      <th>breed</th>\n",
       "      <th>color</th>\n",
       "      <th>sex_upon_outcome</th>\n",
       "      <th>age_upon_outcome_num</th>\n",
       "      <th>date_of_birth_dt</th>\n",
       "      <th>outcome_dt</th>\n",
       "      <th>has_name</th>\n",
       "      <th>outcome</th>\n",
       "      <th>outcome_bin</th>\n",
       "    </tr>\n",
       "  </thead>\n",
       "  <tbody>\n",
       "    <tr>\n",
       "      <th>0</th>\n",
       "      <td>Cat</td>\n",
       "      <td>Domestic Shorthair Mix</td>\n",
       "      <td>Orange Tabby</td>\n",
       "      <td>Intact Male</td>\n",
       "      <td>0.038462</td>\n",
       "      <td>2014-07-07</td>\n",
       "      <td>2014-07-22 16:04:00</td>\n",
       "      <td>False</td>\n",
       "      <td>not</td>\n",
       "      <td>1</td>\n",
       "    </tr>\n",
       "    <tr>\n",
       "      <th>1</th>\n",
       "      <td>Dog</td>\n",
       "      <td>Beagle Mix</td>\n",
       "      <td>White/Brown</td>\n",
       "      <td>Spayed Female</td>\n",
       "      <td>1.000000</td>\n",
       "      <td>2012-11-06</td>\n",
       "      <td>2013-11-07 11:47:00</td>\n",
       "      <td>True</td>\n",
       "      <td>not</td>\n",
       "      <td>1</td>\n",
       "    </tr>\n",
       "    <tr>\n",
       "      <th>2</th>\n",
       "      <td>Dog</td>\n",
       "      <td>Pit Bull</td>\n",
       "      <td>Blue/White</td>\n",
       "      <td>Neutered Male</td>\n",
       "      <td>1.000000</td>\n",
       "      <td>2013-03-31</td>\n",
       "      <td>2014-06-03 14:20:00</td>\n",
       "      <td>True</td>\n",
       "      <td>adopted</td>\n",
       "      <td>0</td>\n",
       "    </tr>\n",
       "    <tr>\n",
       "      <th>3</th>\n",
       "      <td>Dog</td>\n",
       "      <td>Miniature Schnauzer Mix</td>\n",
       "      <td>White</td>\n",
       "      <td>Neutered Male</td>\n",
       "      <td>9.000000</td>\n",
       "      <td>2005-06-02</td>\n",
       "      <td>2014-06-15 15:50:00</td>\n",
       "      <td>True</td>\n",
       "      <td>not</td>\n",
       "      <td>1</td>\n",
       "    </tr>\n",
       "    <tr>\n",
       "      <th>4</th>\n",
       "      <td>Other</td>\n",
       "      <td>Bat Mix</td>\n",
       "      <td>Brown</td>\n",
       "      <td>Unknown</td>\n",
       "      <td>0.416667</td>\n",
       "      <td>2014-01-07</td>\n",
       "      <td>2014-07-07 14:04:00</td>\n",
       "      <td>False</td>\n",
       "      <td>not</td>\n",
       "      <td>1</td>\n",
       "    </tr>\n",
       "  </tbody>\n",
       "</table>\n",
       "</div>"
      ],
      "text/plain": [
       "  animal_type                    breed         color sex_upon_outcome  \\\n",
       "0         Cat   Domestic Shorthair Mix  Orange Tabby      Intact Male   \n",
       "1         Dog               Beagle Mix   White/Brown    Spayed Female   \n",
       "2         Dog                 Pit Bull    Blue/White    Neutered Male   \n",
       "3         Dog  Miniature Schnauzer Mix         White    Neutered Male   \n",
       "4       Other                  Bat Mix         Brown          Unknown   \n",
       "\n",
       "   age_upon_outcome_num date_of_birth_dt          outcome_dt  has_name  \\\n",
       "0              0.038462       2014-07-07 2014-07-22 16:04:00     False   \n",
       "1              1.000000       2012-11-06 2013-11-07 11:47:00      True   \n",
       "2              1.000000       2013-03-31 2014-06-03 14:20:00      True   \n",
       "3              9.000000       2005-06-02 2014-06-15 15:50:00      True   \n",
       "4              0.416667       2014-01-07 2014-07-07 14:04:00     False   \n",
       "\n",
       "   outcome  outcome_bin  \n",
       "0      not            1  \n",
       "1      not            1  \n",
       "2  adopted            0  \n",
       "3      not            1  \n",
       "4      not            1  "
      ]
     },
     "execution_count": 127,
     "metadata": {},
     "output_type": "execute_result"
    }
   ],
   "source": [
    "final_data = data\n",
    "final_data['outcome_bin'] = y\n",
    "final_data.head()"
   ]
  },
  {
   "cell_type": "code",
   "execution_count": 128,
   "metadata": {},
   "outputs": [
    {
     "data": {
      "text/html": [
       "<div>\n",
       "<style scoped>\n",
       "    .dataframe tbody tr th:only-of-type {\n",
       "        vertical-align: middle;\n",
       "    }\n",
       "\n",
       "    .dataframe tbody tr th {\n",
       "        vertical-align: top;\n",
       "    }\n",
       "\n",
       "    .dataframe thead th {\n",
       "        text-align: right;\n",
       "    }\n",
       "</style>\n",
       "<table border=\"1\" class=\"dataframe\">\n",
       "  <thead>\n",
       "    <tr style=\"text-align: right;\">\n",
       "      <th></th>\n",
       "      <th>age_upon_outcome_num</th>\n",
       "      <th>date_of_birth_dt</th>\n",
       "      <th>outcome_dt</th>\n",
       "      <th>has_name</th>\n",
       "      <th>animal_type_Bird</th>\n",
       "      <th>animal_type_Cat</th>\n",
       "      <th>animal_type_Dog</th>\n",
       "      <th>animal_type_Livestock</th>\n",
       "      <th>animal_type_Other</th>\n",
       "      <th>breed_Abyssinian Mix</th>\n",
       "      <th>...</th>\n",
       "      <th>color_Yellow/Tan</th>\n",
       "      <th>color_Yellow/White</th>\n",
       "      <th>color_Yellow/Yellow</th>\n",
       "      <th>sex_upon_outcome_Intact Female</th>\n",
       "      <th>sex_upon_outcome_Intact Male</th>\n",
       "      <th>sex_upon_outcome_Neutered Male</th>\n",
       "      <th>sex_upon_outcome_Spayed Female</th>\n",
       "      <th>sex_upon_outcome_Unknown</th>\n",
       "      <th>outcome</th>\n",
       "      <th>predoutcome_lr</th>\n",
       "    </tr>\n",
       "  </thead>\n",
       "  <tbody>\n",
       "    <tr>\n",
       "      <th>4825</th>\n",
       "      <td>2.000000</td>\n",
       "      <td>3692</td>\n",
       "      <td>9206</td>\n",
       "      <td>True</td>\n",
       "      <td>0</td>\n",
       "      <td>0</td>\n",
       "      <td>1</td>\n",
       "      <td>0</td>\n",
       "      <td>0</td>\n",
       "      <td>0</td>\n",
       "      <td>...</td>\n",
       "      <td>0</td>\n",
       "      <td>0</td>\n",
       "      <td>0</td>\n",
       "      <td>0</td>\n",
       "      <td>0</td>\n",
       "      <td>1</td>\n",
       "      <td>0</td>\n",
       "      <td>0</td>\n",
       "      <td>0</td>\n",
       "      <td>0</td>\n",
       "    </tr>\n",
       "    <tr>\n",
       "      <th>44862</th>\n",
       "      <td>1.000000</td>\n",
       "      <td>5063</td>\n",
       "      <td>44846</td>\n",
       "      <td>True</td>\n",
       "      <td>0</td>\n",
       "      <td>0</td>\n",
       "      <td>1</td>\n",
       "      <td>0</td>\n",
       "      <td>0</td>\n",
       "      <td>0</td>\n",
       "      <td>...</td>\n",
       "      <td>0</td>\n",
       "      <td>0</td>\n",
       "      <td>0</td>\n",
       "      <td>0</td>\n",
       "      <td>0</td>\n",
       "      <td>1</td>\n",
       "      <td>0</td>\n",
       "      <td>0</td>\n",
       "      <td>0</td>\n",
       "      <td>0</td>\n",
       "    </tr>\n",
       "    <tr>\n",
       "      <th>75617</th>\n",
       "      <td>0.166667</td>\n",
       "      <td>5086</td>\n",
       "      <td>34592</td>\n",
       "      <td>True</td>\n",
       "      <td>0</td>\n",
       "      <td>1</td>\n",
       "      <td>0</td>\n",
       "      <td>0</td>\n",
       "      <td>0</td>\n",
       "      <td>0</td>\n",
       "      <td>...</td>\n",
       "      <td>0</td>\n",
       "      <td>0</td>\n",
       "      <td>0</td>\n",
       "      <td>0</td>\n",
       "      <td>0</td>\n",
       "      <td>0</td>\n",
       "      <td>1</td>\n",
       "      <td>0</td>\n",
       "      <td>0</td>\n",
       "      <td>0</td>\n",
       "    </tr>\n",
       "    <tr>\n",
       "      <th>39747</th>\n",
       "      <td>0.166667</td>\n",
       "      <td>5041</td>\n",
       "      <td>32499</td>\n",
       "      <td>False</td>\n",
       "      <td>0</td>\n",
       "      <td>1</td>\n",
       "      <td>0</td>\n",
       "      <td>0</td>\n",
       "      <td>0</td>\n",
       "      <td>0</td>\n",
       "      <td>...</td>\n",
       "      <td>0</td>\n",
       "      <td>0</td>\n",
       "      <td>0</td>\n",
       "      <td>0</td>\n",
       "      <td>1</td>\n",
       "      <td>0</td>\n",
       "      <td>0</td>\n",
       "      <td>0</td>\n",
       "      <td>1</td>\n",
       "      <td>1</td>\n",
       "    </tr>\n",
       "    <tr>\n",
       "      <th>70759</th>\n",
       "      <td>1.000000</td>\n",
       "      <td>4573</td>\n",
       "      <td>26528</td>\n",
       "      <td>True</td>\n",
       "      <td>0</td>\n",
       "      <td>1</td>\n",
       "      <td>0</td>\n",
       "      <td>0</td>\n",
       "      <td>0</td>\n",
       "      <td>0</td>\n",
       "      <td>...</td>\n",
       "      <td>0</td>\n",
       "      <td>0</td>\n",
       "      <td>0</td>\n",
       "      <td>0</td>\n",
       "      <td>0</td>\n",
       "      <td>1</td>\n",
       "      <td>0</td>\n",
       "      <td>0</td>\n",
       "      <td>0</td>\n",
       "      <td>0</td>\n",
       "    </tr>\n",
       "  </tbody>\n",
       "</table>\n",
       "<p>5 rows × 2669 columns</p>\n",
       "</div>"
      ],
      "text/plain": [
       "       age_upon_outcome_num  date_of_birth_dt  outcome_dt  has_name  \\\n",
       "4825               2.000000              3692        9206      True   \n",
       "44862              1.000000              5063       44846      True   \n",
       "75617              0.166667              5086       34592      True   \n",
       "39747              0.166667              5041       32499     False   \n",
       "70759              1.000000              4573       26528      True   \n",
       "\n",
       "       animal_type_Bird  animal_type_Cat  animal_type_Dog  \\\n",
       "4825                  0                0                1   \n",
       "44862                 0                0                1   \n",
       "75617                 0                1                0   \n",
       "39747                 0                1                0   \n",
       "70759                 0                1                0   \n",
       "\n",
       "       animal_type_Livestock  animal_type_Other  breed_Abyssinian Mix  \\\n",
       "4825                       0                  0                     0   \n",
       "44862                      0                  0                     0   \n",
       "75617                      0                  0                     0   \n",
       "39747                      0                  0                     0   \n",
       "70759                      0                  0                     0   \n",
       "\n",
       "            ...        color_Yellow/Tan  color_Yellow/White  \\\n",
       "4825        ...                       0                   0   \n",
       "44862       ...                       0                   0   \n",
       "75617       ...                       0                   0   \n",
       "39747       ...                       0                   0   \n",
       "70759       ...                       0                   0   \n",
       "\n",
       "       color_Yellow/Yellow  sex_upon_outcome_Intact Female  \\\n",
       "4825                     0                               0   \n",
       "44862                    0                               0   \n",
       "75617                    0                               0   \n",
       "39747                    0                               0   \n",
       "70759                    0                               0   \n",
       "\n",
       "       sex_upon_outcome_Intact Male  sex_upon_outcome_Neutered Male  \\\n",
       "4825                              0                               1   \n",
       "44862                             0                               1   \n",
       "75617                             0                               0   \n",
       "39747                             1                               0   \n",
       "70759                             0                               1   \n",
       "\n",
       "       sex_upon_outcome_Spayed Female  sex_upon_outcome_Unknown  outcome  \\\n",
       "4825                                0                         0        0   \n",
       "44862                               0                         0        0   \n",
       "75617                               1                         0        0   \n",
       "39747                               0                         0        1   \n",
       "70759                               0                         0        0   \n",
       "\n",
       "       predoutcome_lr  \n",
       "4825                0  \n",
       "44862               0  \n",
       "75617               0  \n",
       "39747               1  \n",
       "70759               0  \n",
       "\n",
       "[5 rows x 2669 columns]"
      ]
     },
     "execution_count": 128,
     "metadata": {},
     "output_type": "execute_result"
    }
   ],
   "source": [
    "final_data = X_test.copy()\n",
    "final_data['outcome'] = y_test\n",
    "final_data['predoutcome_lr'] = lr_pred_outcome\n",
    "final_data.head()"
   ]
  },
  {
   "cell_type": "code",
   "execution_count": 129,
   "metadata": {},
   "outputs": [
    {
     "data": {
      "text/html": [
       "<div>\n",
       "<style scoped>\n",
       "    .dataframe tbody tr th:only-of-type {\n",
       "        vertical-align: middle;\n",
       "    }\n",
       "\n",
       "    .dataframe tbody tr th {\n",
       "        vertical-align: top;\n",
       "    }\n",
       "\n",
       "    .dataframe thead th {\n",
       "        text-align: right;\n",
       "    }\n",
       "</style>\n",
       "<table border=\"1\" class=\"dataframe\">\n",
       "  <thead>\n",
       "    <tr style=\"text-align: right;\">\n",
       "      <th></th>\n",
       "      <th>age_upon_outcome_num</th>\n",
       "      <th>date_of_birth_dt</th>\n",
       "      <th>outcome_dt</th>\n",
       "      <th>has_name</th>\n",
       "      <th>animal_type_Bird</th>\n",
       "      <th>animal_type_Cat</th>\n",
       "      <th>animal_type_Dog</th>\n",
       "      <th>animal_type_Livestock</th>\n",
       "      <th>animal_type_Other</th>\n",
       "      <th>breed_Abyssinian Mix</th>\n",
       "      <th>...</th>\n",
       "      <th>color_Yellow/Tan</th>\n",
       "      <th>color_Yellow/White</th>\n",
       "      <th>color_Yellow/Yellow</th>\n",
       "      <th>sex_upon_outcome_Intact Female</th>\n",
       "      <th>sex_upon_outcome_Intact Male</th>\n",
       "      <th>sex_upon_outcome_Neutered Male</th>\n",
       "      <th>sex_upon_outcome_Spayed Female</th>\n",
       "      <th>sex_upon_outcome_Unknown</th>\n",
       "      <th>outcome</th>\n",
       "      <th>predoutcome_lr</th>\n",
       "    </tr>\n",
       "  </thead>\n",
       "  <tbody>\n",
       "    <tr>\n",
       "      <th>54622</th>\n",
       "      <td>2.0</td>\n",
       "      <td>4894</td>\n",
       "      <td>52364</td>\n",
       "      <td>False</td>\n",
       "      <td>0</td>\n",
       "      <td>1</td>\n",
       "      <td>0</td>\n",
       "      <td>0</td>\n",
       "      <td>0</td>\n",
       "      <td>0</td>\n",
       "      <td>...</td>\n",
       "      <td>0</td>\n",
       "      <td>0</td>\n",
       "      <td>0</td>\n",
       "      <td>0</td>\n",
       "      <td>0</td>\n",
       "      <td>0</td>\n",
       "      <td>1</td>\n",
       "      <td>0</td>\n",
       "      <td>1</td>\n",
       "      <td>0</td>\n",
       "    </tr>\n",
       "    <tr>\n",
       "      <th>12339</th>\n",
       "      <td>8.0</td>\n",
       "      <td>1555</td>\n",
       "      <td>2725</td>\n",
       "      <td>True</td>\n",
       "      <td>0</td>\n",
       "      <td>0</td>\n",
       "      <td>1</td>\n",
       "      <td>0</td>\n",
       "      <td>0</td>\n",
       "      <td>0</td>\n",
       "      <td>...</td>\n",
       "      <td>0</td>\n",
       "      <td>0</td>\n",
       "      <td>0</td>\n",
       "      <td>0</td>\n",
       "      <td>1</td>\n",
       "      <td>0</td>\n",
       "      <td>0</td>\n",
       "      <td>0</td>\n",
       "      <td>0</td>\n",
       "      <td>1</td>\n",
       "    </tr>\n",
       "    <tr>\n",
       "      <th>20086</th>\n",
       "      <td>4.0</td>\n",
       "      <td>2961</td>\n",
       "      <td>6407</td>\n",
       "      <td>True</td>\n",
       "      <td>0</td>\n",
       "      <td>0</td>\n",
       "      <td>1</td>\n",
       "      <td>0</td>\n",
       "      <td>0</td>\n",
       "      <td>0</td>\n",
       "      <td>...</td>\n",
       "      <td>0</td>\n",
       "      <td>0</td>\n",
       "      <td>0</td>\n",
       "      <td>0</td>\n",
       "      <td>0</td>\n",
       "      <td>1</td>\n",
       "      <td>0</td>\n",
       "      <td>0</td>\n",
       "      <td>1</td>\n",
       "      <td>0</td>\n",
       "    </tr>\n",
       "    <tr>\n",
       "      <th>37417</th>\n",
       "      <td>3.0</td>\n",
       "      <td>4107</td>\n",
       "      <td>35956</td>\n",
       "      <td>True</td>\n",
       "      <td>0</td>\n",
       "      <td>0</td>\n",
       "      <td>1</td>\n",
       "      <td>0</td>\n",
       "      <td>0</td>\n",
       "      <td>0</td>\n",
       "      <td>...</td>\n",
       "      <td>0</td>\n",
       "      <td>0</td>\n",
       "      <td>0</td>\n",
       "      <td>1</td>\n",
       "      <td>0</td>\n",
       "      <td>0</td>\n",
       "      <td>0</td>\n",
       "      <td>0</td>\n",
       "      <td>0</td>\n",
       "      <td>1</td>\n",
       "    </tr>\n",
       "    <tr>\n",
       "      <th>10134</th>\n",
       "      <td>4.0</td>\n",
       "      <td>3149</td>\n",
       "      <td>11171</td>\n",
       "      <td>True</td>\n",
       "      <td>0</td>\n",
       "      <td>0</td>\n",
       "      <td>1</td>\n",
       "      <td>0</td>\n",
       "      <td>0</td>\n",
       "      <td>0</td>\n",
       "      <td>...</td>\n",
       "      <td>0</td>\n",
       "      <td>0</td>\n",
       "      <td>0</td>\n",
       "      <td>1</td>\n",
       "      <td>0</td>\n",
       "      <td>0</td>\n",
       "      <td>0</td>\n",
       "      <td>0</td>\n",
       "      <td>0</td>\n",
       "      <td>1</td>\n",
       "    </tr>\n",
       "  </tbody>\n",
       "</table>\n",
       "<p>5 rows × 2669 columns</p>\n",
       "</div>"
      ],
      "text/plain": [
       "       age_upon_outcome_num  date_of_birth_dt  outcome_dt  has_name  \\\n",
       "54622                   2.0              4894       52364     False   \n",
       "12339                   8.0              1555        2725      True   \n",
       "20086                   4.0              2961        6407      True   \n",
       "37417                   3.0              4107       35956      True   \n",
       "10134                   4.0              3149       11171      True   \n",
       "\n",
       "       animal_type_Bird  animal_type_Cat  animal_type_Dog  \\\n",
       "54622                 0                1                0   \n",
       "12339                 0                0                1   \n",
       "20086                 0                0                1   \n",
       "37417                 0                0                1   \n",
       "10134                 0                0                1   \n",
       "\n",
       "       animal_type_Livestock  animal_type_Other  breed_Abyssinian Mix  \\\n",
       "54622                      0                  0                     0   \n",
       "12339                      0                  0                     0   \n",
       "20086                      0                  0                     0   \n",
       "37417                      0                  0                     0   \n",
       "10134                      0                  0                     0   \n",
       "\n",
       "            ...        color_Yellow/Tan  color_Yellow/White  \\\n",
       "54622       ...                       0                   0   \n",
       "12339       ...                       0                   0   \n",
       "20086       ...                       0                   0   \n",
       "37417       ...                       0                   0   \n",
       "10134       ...                       0                   0   \n",
       "\n",
       "       color_Yellow/Yellow  sex_upon_outcome_Intact Female  \\\n",
       "54622                    0                               0   \n",
       "12339                    0                               0   \n",
       "20086                    0                               0   \n",
       "37417                    0                               1   \n",
       "10134                    0                               1   \n",
       "\n",
       "       sex_upon_outcome_Intact Male  sex_upon_outcome_Neutered Male  \\\n",
       "54622                             0                               0   \n",
       "12339                             1                               0   \n",
       "20086                             0                               1   \n",
       "37417                             0                               0   \n",
       "10134                             0                               0   \n",
       "\n",
       "       sex_upon_outcome_Spayed Female  sex_upon_outcome_Unknown  outcome  \\\n",
       "54622                               1                         0        1   \n",
       "12339                               0                         0        0   \n",
       "20086                               0                         0        1   \n",
       "37417                               0                         0        0   \n",
       "10134                               0                         0        0   \n",
       "\n",
       "       predoutcome_lr  \n",
       "54622               0  \n",
       "12339               1  \n",
       "20086               0  \n",
       "37417               1  \n",
       "10134               1  \n",
       "\n",
       "[5 rows x 2669 columns]"
      ]
     },
     "execution_count": 129,
     "metadata": {},
     "output_type": "execute_result"
    }
   ],
   "source": [
    "wrong_data = final_data[final_data.outcome != final_data.predoutcome_lr]\n",
    "right_data = final_data[final_data.outcome == final_data.predoutcome_lr]\n",
    "wrong_data.head()"
   ]
  },
  {
   "cell_type": "code",
   "execution_count": 130,
   "metadata": {},
   "outputs": [
    {
     "name": "stdout",
     "output_type": "stream",
     "text": [
      "2884  classified incorrectly\n",
      "12768  classified correctly\n",
      "15652 total\n"
     ]
    }
   ],
   "source": [
    "print(len(wrong_data), \" classified incorrectly\")\n",
    "print(len(right_data), \" classified correctly\")\n",
    "print(len(final_data), \"total\")"
   ]
  },
  {
   "cell_type": "code",
   "execution_count": 131,
   "metadata": {},
   "outputs": [
    {
     "data": {
      "text/plain": [
       "<matplotlib.axes._subplots.AxesSubplot at 0x7f661a7764a8>"
      ]
     },
     "execution_count": 131,
     "metadata": {},
     "output_type": "execute_result"
    },
    {
     "data": {
      "image/png": "[encoded data removed]",
      "text/plain": [
       "<Figure size 432x288 with 1 Axes>"
      ]
     },
     "metadata": {},
     "output_type": "display_data"
    }
   ],
   "source": [
    "wrong_data['age_upon_outcome_num'].hist()"
   ]
  },
  {
   "cell_type": "code",
   "execution_count": 132,
   "metadata": {},
   "outputs": [
    {
     "data": {
      "text/plain": [
       "<matplotlib.axes._subplots.AxesSubplot at 0x7f661a76d470>"
      ]
     },
     "execution_count": 132,
     "metadata": {},
     "output_type": "execute_result"
    },
    {
     "data": {
      "image/png": "[encoded data removed]",
      "text/plain": [
       "<Figure size 432x288 with 1 Axes>"
      ]
     },
     "metadata": {},
     "output_type": "display_data"
    }
   ],
   "source": [
    "right_data['age_upon_outcome_num'].hist()"
   ]
  },
  {
   "cell_type": "code",
   "execution_count": 133,
   "metadata": {},
   "outputs": [
    {
     "data": {
      "text/plain": [
       "<matplotlib.axes._subplots.AxesSubplot at 0x7f661a52c198>"
      ]
     },
     "execution_count": 133,
     "metadata": {},
     "output_type": "execute_result"
    },
    {
     "data": {
      "image/png": "[encoded data removed]",
      "text/plain": [
       "<Figure size 432x288 with 1 Axes>"
      ]
     },
     "metadata": {},
     "output_type": "display_data"
    }
   ],
   "source": [
    "wrong_data['date_of_birth_dt'].hist()"
   ]
  },
  {
   "cell_type": "code",
   "execution_count": 134,
   "metadata": {},
   "outputs": [
    {
     "data": {
      "text/plain": [
       "<matplotlib.axes._subplots.AxesSubplot at 0x7f661a49ee10>"
      ]
     },
     "execution_count": 134,
     "metadata": {},
     "output_type": "execute_result"
    },
    {
     "data": {
      "image/png": "[encoded data removed]",
      "text/plain": [
       "<Figure size 432x288 with 1 Axes>"
      ]
     },
     "metadata": {},
     "output_type": "display_data"
    }
   ],
   "source": [
    "right_data['date_of_birth_dt'].hist()"
   ]
  },
  {
   "cell_type": "code",
   "execution_count": 135,
   "metadata": {
    "scrolled": true
   },
   "outputs": [
    {
     "name": "stdout",
     "output_type": "stream",
     "text": [
      "AxesSubplot(0.125,0.125;0.775x0.755)\n"
     ]
    },
    {
     "data": {
      "image/png": "[encoded data removed]",
      "text/plain": [
       "<Figure size 432x288 with 1 Axes>"
      ]
     },
     "metadata": {},
     "output_type": "display_data"
    }
   ],
   "source": [
    "print(wrong_data['has_name'].hist())"
   ]
  },
  {
   "cell_type": "code",
   "execution_count": 136,
   "metadata": {},
   "outputs": [
    {
     "name": "stdout",
     "output_type": "stream",
     "text": [
      "AxesSubplot(0.125,0.125;0.775x0.755)\n"
     ]
    },
    {
     "data": {
      "image/png": "[encoded data removed]",
      "text/plain": [
       "<Figure size 432x288 with 1 Axes>"
      ]
     },
     "metadata": {},
     "output_type": "display_data"
    }
   ],
   "source": [
    "print(right_data['has_name'].hist())"
   ]
  },
  {
   "cell_type": "code",
   "execution_count": 137,
   "metadata": {},
   "outputs": [
    {
     "data": {
      "text/plain": [
       "<matplotlib.axes._subplots.AxesSubplot at 0x7f661a3fc6d8>"
      ]
     },
     "execution_count": 137,
     "metadata": {},
     "output_type": "execute_result"
    },
    {
     "data": {
      "image/png": "[encoded data removed]",
      "text/plain": [
       "<Figure size 432x288 with 1 Axes>"
      ]
     },
     "metadata": {},
     "output_type": "display_data"
    }
   ],
   "source": [
    "X_test['has_name'].hist()"
   ]
  },
  {
   "cell_type": "markdown",
   "metadata": {},
   "source": [
    "There's a lower proportion of animals without names that are incorrectly classified. So it is correctly classifying animals without names more often than those with names"
   ]
  },
  {
   "cell_type": "code",
   "execution_count": 138,
   "metadata": {},
   "outputs": [
    {
     "data": {
      "text/plain": [
       "<matplotlib.axes._subplots.AxesSubplot at 0x7f661a3c5a20>"
      ]
     },
     "execution_count": 138,
     "metadata": {},
     "output_type": "execute_result"
    },
    {
     "data": {
      "image/png": "[encoded data removed]",
      "text/plain": [
       "<Figure size 432x288 with 1 Axes>"
      ]
     },
     "metadata": {},
     "output_type": "display_data"
    }
   ],
   "source": [
    "y=[len(wrong_data[wrong_data['animal_type_Bird'] == 1]),\n",
    "   len(wrong_data[wrong_data['animal_type_Cat'] == 1]),\n",
    "   len(wrong_data[wrong_data['animal_type_Dog'] == 1]),\n",
    "   len(wrong_data[wrong_data['animal_type_Livestock'] == 1]),\n",
    "   len(wrong_data[wrong_data['animal_type_Other'] == 1])]\n",
    "   \n",
    "#y\n",
    "sns.barplot(x=['Bird', 'Cat', 'Dog','Livestock', 'Other'], y=y)"
   ]
  },
  {
   "cell_type": "markdown",
   "metadata": {},
   "source": [
    "This looks pretty comparable to the original data"
   ]
  },
  {
   "cell_type": "code",
   "execution_count": 139,
   "metadata": {},
   "outputs": [
    {
     "data": {
      "text/plain": [
       "<matplotlib.axes._subplots.AxesSubplot at 0x7f661a38cb38>"
      ]
     },
     "execution_count": 139,
     "metadata": {},
     "output_type": "execute_result"
    },
    {
     "data": {
      "image/png": "[encoded data removed]",
      "text/plain": [
       "<Figure size 432x288 with 1 Axes>"
      ]
     },
     "metadata": {},
     "output_type": "display_data"
    }
   ],
   "source": [
    "y=[len(wrong_data[wrong_data['sex_upon_outcome_Intact Female'] == 1]),\n",
    "   len(wrong_data[wrong_data['sex_upon_outcome_Intact Male'] == 1]),\n",
    "   len(wrong_data[wrong_data['sex_upon_outcome_Neutered Male'] == 1]),\n",
    "   len(wrong_data[wrong_data['sex_upon_outcome_Spayed Female'] == 1]),\n",
    "   len(wrong_data[wrong_data['sex_upon_outcome_Unknown'] == 1])]\n",
    "x=['Intact Female', 'Intact Male', 'Neutered Male', 'Spayed Female', 'Unknown']\n",
    "sns.barplot(x=x,y=y)"
   ]
  },
  {
   "cell_type": "code",
   "execution_count": 140,
   "metadata": {},
   "outputs": [
    {
     "data": {
      "text/plain": [
       "<matplotlib.axes._subplots.AxesSubplot at 0x7f661a2cf8d0>"
      ]
     },
     "execution_count": 140,
     "metadata": {},
     "output_type": "execute_result"
    },
    {
     "data": {
      "image/png": "[encoded data removed]",
      "text/plain": [
       "<Figure size 432x288 with 1 Axes>"
      ]
     },
     "metadata": {},
     "output_type": "display_data"
    }
   ],
   "source": [
    "sns.barplot(x=['Intact Female', 'Intact Male', 'Neutered Male', 'Spayed Female', 'Unknown'], y=data.groupby('sex_upon_outcome').size())"
   ]
  },
  {
   "cell_type": "markdown",
   "metadata": {},
   "source": [
    "Once again, fairly comparable. Fewer unknown in the wrong data set. "
   ]
  },
  {
   "cell_type": "code",
   "execution_count": 141,
   "metadata": {},
   "outputs": [
    {
     "data": {
      "image/png": "[encoded data removed]",
      "text/plain": [
       "<Figure size 432x288 with 1 Axes>"
      ]
     },
     "metadata": {},
     "output_type": "display_data"
    }
   ],
   "source": [
    "p = sns.countplot(data=data,\n",
    "                  x = 'sex_upon_outcome',\n",
    "                  hue = 'has_name')"
   ]
  },
  {
   "cell_type": "code",
   "execution_count": 142,
   "metadata": {},
   "outputs": [
    {
     "data": {
      "text/html": [
       "<div>\n",
       "<style scoped>\n",
       "    .dataframe tbody tr th:only-of-type {\n",
       "        vertical-align: middle;\n",
       "    }\n",
       "\n",
       "    .dataframe tbody tr th {\n",
       "        vertical-align: top;\n",
       "    }\n",
       "\n",
       "    .dataframe thead th {\n",
       "        text-align: right;\n",
       "    }\n",
       "</style>\n",
       "<table border=\"1\" class=\"dataframe\">\n",
       "  <thead>\n",
       "    <tr style=\"text-align: right;\">\n",
       "      <th></th>\n",
       "      <th>animal_type</th>\n",
       "      <th>breed</th>\n",
       "      <th>color</th>\n",
       "      <th>sex_upon_outcome</th>\n",
       "      <th>age_upon_outcome_num</th>\n",
       "      <th>date_of_birth_dt</th>\n",
       "      <th>outcome_dt</th>\n",
       "      <th>has_name</th>\n",
       "      <th>outcome</th>\n",
       "      <th>outcome_bin</th>\n",
       "    </tr>\n",
       "  </thead>\n",
       "  <tbody>\n",
       "    <tr>\n",
       "      <th>0</th>\n",
       "      <td>Cat</td>\n",
       "      <td>Domestic Shorthair Mix</td>\n",
       "      <td>Orange Tabby</td>\n",
       "      <td>Intact Male</td>\n",
       "      <td>0.038462</td>\n",
       "      <td>2014-07-07</td>\n",
       "      <td>2014-07-22 16:04:00</td>\n",
       "      <td>False</td>\n",
       "      <td>not</td>\n",
       "      <td>1</td>\n",
       "    </tr>\n",
       "    <tr>\n",
       "      <th>1</th>\n",
       "      <td>Dog</td>\n",
       "      <td>Beagle Mix</td>\n",
       "      <td>White/Brown</td>\n",
       "      <td>Spayed Female</td>\n",
       "      <td>1.000000</td>\n",
       "      <td>2012-11-06</td>\n",
       "      <td>2013-11-07 11:47:00</td>\n",
       "      <td>True</td>\n",
       "      <td>not</td>\n",
       "      <td>1</td>\n",
       "    </tr>\n",
       "    <tr>\n",
       "      <th>2</th>\n",
       "      <td>Dog</td>\n",
       "      <td>Pit Bull</td>\n",
       "      <td>Blue/White</td>\n",
       "      <td>Neutered Male</td>\n",
       "      <td>1.000000</td>\n",
       "      <td>2013-03-31</td>\n",
       "      <td>2014-06-03 14:20:00</td>\n",
       "      <td>True</td>\n",
       "      <td>adopted</td>\n",
       "      <td>0</td>\n",
       "    </tr>\n",
       "    <tr>\n",
       "      <th>3</th>\n",
       "      <td>Dog</td>\n",
       "      <td>Miniature Schnauzer Mix</td>\n",
       "      <td>White</td>\n",
       "      <td>Neutered Male</td>\n",
       "      <td>9.000000</td>\n",
       "      <td>2005-06-02</td>\n",
       "      <td>2014-06-15 15:50:00</td>\n",
       "      <td>True</td>\n",
       "      <td>not</td>\n",
       "      <td>1</td>\n",
       "    </tr>\n",
       "    <tr>\n",
       "      <th>4</th>\n",
       "      <td>Other</td>\n",
       "      <td>Bat Mix</td>\n",
       "      <td>Brown</td>\n",
       "      <td>Unknown</td>\n",
       "      <td>0.416667</td>\n",
       "      <td>2014-01-07</td>\n",
       "      <td>2014-07-07 14:04:00</td>\n",
       "      <td>False</td>\n",
       "      <td>not</td>\n",
       "      <td>1</td>\n",
       "    </tr>\n",
       "  </tbody>\n",
       "</table>\n",
       "</div>"
      ],
      "text/plain": [
       "  animal_type                    breed         color sex_upon_outcome  \\\n",
       "0         Cat   Domestic Shorthair Mix  Orange Tabby      Intact Male   \n",
       "1         Dog               Beagle Mix   White/Brown    Spayed Female   \n",
       "2         Dog                 Pit Bull    Blue/White    Neutered Male   \n",
       "3         Dog  Miniature Schnauzer Mix         White    Neutered Male   \n",
       "4       Other                  Bat Mix         Brown          Unknown   \n",
       "\n",
       "   age_upon_outcome_num date_of_birth_dt          outcome_dt  has_name  \\\n",
       "0              0.038462       2014-07-07 2014-07-22 16:04:00     False   \n",
       "1              1.000000       2012-11-06 2013-11-07 11:47:00      True   \n",
       "2              1.000000       2013-03-31 2014-06-03 14:20:00      True   \n",
       "3              9.000000       2005-06-02 2014-06-15 15:50:00      True   \n",
       "4              0.416667       2014-01-07 2014-07-07 14:04:00     False   \n",
       "\n",
       "   outcome  outcome_bin  \n",
       "0      not            1  \n",
       "1      not            1  \n",
       "2  adopted            0  \n",
       "3      not            1  \n",
       "4      not            1  "
      ]
     },
     "execution_count": 142,
     "metadata": {},
     "output_type": "execute_result"
    }
   ],
   "source": [
    "data.head() "
   ]
  },
  {
   "cell_type": "markdown",
   "metadata": {},
   "source": [
    "## Grid Search CV"
   ]
  },
  {
   "cell_type": "code",
   "execution_count": 143,
   "metadata": {},
   "outputs": [],
   "source": [
    "from sklearn.model_selection import GridSearchCV, RandomizedSearchCV\n",
    "from sklearn.ensemble import RandomForestClassifier"
   ]
  },
  {
   "cell_type": "code",
   "execution_count": null,
   "metadata": {},
   "outputs": [],
   "source": [
    "clf = RandomForestClassifier(n_estimators=20)\n",
    "\n",
    "# specify parameters and distributions to sample from\n",
    "param_dist = {\"max_depth\": [3, None],\n",
    "              \"max_features\": 6,\n",
    "              \"min_samples_split\": 3,\n",
    "              \"min_samples_leaf\": 3,\n",
    "              \"bootstrap\": [True, False],\n",
    "              \"criterion\": [\"gini\", \"entropy\"]}\n",
    "\n",
    "# run randomized search\n",
    "n_iter_search = 20\n",
    "random_search = RandomizedSearchCV(clf, param_distributions=param_dist,\n",
    "                                   n_iter=n_iter_search)\n",
    "\n",
    "#random_search.fit(X_train, y_train)"
   ]
  },
  {
   "cell_type": "code",
   "execution_count": 145,
   "metadata": {},
   "outputs": [
    {
     "data": {
      "text/plain": [
       "GridSearchCV(cv=None, error_score='raise',\n",
       "       estimator=RandomForestClassifier(bootstrap=True, class_weight=None, criterion='gini',\n",
       "            max_depth=None, max_features='auto', max_leaf_nodes=None,\n",
       "            min_impurity_decrease=0.0, min_impurity_split=None,\n",
       "            min_samples_leaf=1, min_samples_split=2,\n",
       "            min_weight_fraction_leaf=0.0, n_estimators=20, n_jobs=1,\n",
       "            oob_score=False, random_state=None, verbose=0,\n",
       "            warm_start=False),\n",
       "       fit_params=None, iid=True, n_jobs=1,\n",
       "       param_grid={'bootstrap': [True, False], 'min_samples_leaf': [1, 3, 10], 'max_features': [1, 3, 10], 'min_samples_split': [2, 3, 10], 'criterion': ['gini', 'entropy'], 'max_depth': [3, 10]},\n",
       "       pre_dispatch='2*n_jobs', refit=True, return_train_score='warn',\n",
       "       scoring=None, verbose=0)"
      ]
     },
     "execution_count": 145,
     "metadata": {},
     "output_type": "execute_result"
    }
   ],
   "source": [
    "param_grid = {\"max_depth\": [3, 10],\n",
    "              \"max_features\": [1, 3, 10],\n",
    "              \"min_samples_split\": [2, 3, 10],\n",
    "              \"min_samples_leaf\": [1, 3, 10],\n",
    "              \"bootstrap\": [True, False],\n",
    "              \"criterion\": [\"gini\", \"entropy\"]}\n",
    "\n",
    "# run grid search\n",
    "grid_search = GridSearchCV(clf, param_grid=param_grid)\n",
    "\n",
    "grid_search.fit(X_train, y_train)"
   ]
  },
  {
   "cell_type": "code",
   "execution_count": 148,
   "metadata": {},
   "outputs": [
    {
     "data": {
      "text/plain": [
       "(array([15181.,     0.,     0.,     0.,     0.,     0.,     0.,     0.,\n",
       "            0.,   471.]),\n",
       " array([0. , 0.1, 0.2, 0.3, 0.4, 0.5, 0.6, 0.7, 0.8, 0.9, 1. ]),\n",
       " <a list of 10 Patch objects>)"
      ]
     },
     "execution_count": 148,
     "metadata": {},
     "output_type": "execute_result"
    },
    {
     "data": {
      "image/png": "[encoded data removed]",
      "text/plain": [
       "<Figure size 432x288 with 1 Axes>"
      ]
     },
     "metadata": {},
     "output_type": "display_data"
    }
   ],
   "source": [
    "grid_pred = grid_search.predict(X_test)\n",
    "plt.hist(grid_pred)"
   ]
  },
  {
   "cell_type": "code",
   "execution_count": 150,
   "metadata": {},
   "outputs": [
    {
     "data": {
      "text/plain": [
       "0.6392154357270636"
      ]
     },
     "execution_count": 150,
     "metadata": {},
     "output_type": "execute_result"
    }
   ],
   "source": [
    "accuracy_score(grid_pred,y_test)"
   ]
  },
  {
   "cell_type": "markdown",
   "metadata": {},
   "source": [
    "This took a VERY long time to run. 63% accuracy score was not great"
   ]
  },
  {
   "cell_type": "code",
   "execution_count": 174,
   "metadata": {},
   "outputs": [],
   "source": [
    "x = data_label_encoded.iloc[:,:8] #all rows, all the features and no outcome\n",
    "y = data_label_encoded.iloc[:,8] #all rows, outcome only\n",
    "# scaler = StandardScaler()\n",
    "# x=scaler.fit_transform(x)\n",
    "# pca = PCA(n_components=6)\n",
    "# x = pca.fit_transform(x)\n",
    "X_train, X_test, y_train, y_test = train_test_split(x,y,test_size=0.2,random_state=4)"
   ]
  },
  {
   "cell_type": "code",
   "execution_count": 175,
   "metadata": {},
   "outputs": [],
   "source": [
    "lr = LinearRegression()\n",
    "param_grid = {\"max_depth\": [3, 10],\n",
    "              \"max_features\": [1, 3, 8],\n",
    "              \"min_samples_split\": [2, 3, 10],\n",
    "              \"min_samples_leaf\": [1, 3, 10],\n",
    "              \"bootstrap\": [True, False],\n",
    "              \"criterion\": [\"gini\", \"entropy\"]}\n",
    "\n",
    "# run grid search\n",
    "grid_search = GridSearchCV(clf, param_grid=param_grid)"
   ]
  },
  {
   "cell_type": "code",
   "execution_count": 176,
   "metadata": {
    "scrolled": true
   },
   "outputs": [
    {
     "data": {
      "text/plain": [
       "GridSearchCV(cv=None, error_score='raise',\n",
       "       estimator=RandomForestClassifier(bootstrap=True, class_weight=None, criterion='gini',\n",
       "            max_depth=None, max_features='auto', max_leaf_nodes=None,\n",
       "            min_impurity_decrease=0.0, min_impurity_split=None,\n",
       "            min_samples_leaf=1, min_samples_split=2,\n",
       "            min_weight_fraction_leaf=0.0, n_estimators=20, n_jobs=1,\n",
       "            oob_score=False, random_state=None, verbose=0,\n",
       "            warm_start=False),\n",
       "       fit_params=None, iid=True, n_jobs=1,\n",
       "       param_grid={'bootstrap': [True, False], 'min_samples_leaf': [1, 3, 10], 'max_features': [1, 3, 8], 'min_samples_split': [2, 3, 10], 'criterion': ['gini', 'entropy'], 'max_depth': [3, 10]},\n",
       "       pre_dispatch='2*n_jobs', refit=True, return_train_score='warn',\n",
       "       scoring=None, verbose=0)"
      ]
     },
     "execution_count": 176,
     "metadata": {},
     "output_type": "execute_result"
    }
   ],
   "source": [
    "grid_search.fit(X_train, y_train)"
   ]
  },
  {
   "cell_type": "code",
   "execution_count": 177,
   "metadata": {},
   "outputs": [
    {
     "data": {
      "text/plain": [
       "(array([11232.,     0.,     0.,     0.,     0.,     0.,     0.,     0.,\n",
       "            0.,  4420.]),\n",
       " array([0. , 0.1, 0.2, 0.3, 0.4, 0.5, 0.6, 0.7, 0.8, 0.9, 1. ]),\n",
       " <a list of 10 Patch objects>)"
      ]
     },
     "execution_count": 177,
     "metadata": {},
     "output_type": "execute_result"
    },
    {
     "data": {
      "image/png": "[encoded data removed]",
      "text/plain": [
       "<Figure size 432x288 with 1 Axes>"
      ]
     },
     "metadata": {},
     "output_type": "display_data"
    }
   ],
   "source": [
    "grid_pred = grid_search.predict(X_test)\n",
    "plt.hist(grid_pred)"
   ]
  },
  {
   "cell_type": "code",
   "execution_count": 178,
   "metadata": {},
   "outputs": [
    {
     "data": {
      "text/plain": [
       "0.8435982622029133"
      ]
     },
     "execution_count": 178,
     "metadata": {},
     "output_type": "execute_result"
    }
   ],
   "source": [
    "accuracy_score(grid_pred,y_test)"
   ]
  },
  {
   "cell_type": "code",
   "execution_count": 183,
   "metadata": {},
   "outputs": [
    {
     "data": {
      "text/plain": [
       "0.865298202614379"
      ]
     },
     "execution_count": 183,
     "metadata": {},
     "output_type": "execute_result"
    }
   ],
   "source": [
    "grid_search_roc = roc_auc_score(grid_pred,y_test)\n",
    "grid_search_roc"
   ]
  },
  {
   "cell_type": "markdown",
   "metadata": {},
   "source": [
    "GridSearchCV had a higher accuracy score with the Label Encoded data than one hot encoding. However, this makes sense because the max columns was 20, so out of the over 2,000 columns, it wouldn't be a very good representation of all the data present. "
   ]
  },
  {
   "cell_type": "code",
   "execution_count": 179,
   "metadata": {},
   "outputs": [],
   "source": [
    "\n",
    "\n",
    "class EnsembleLearning():\n",
    "    def __init__(self, model_1, model_2, model_3):\n",
    "        self.model_1 = model_1\n",
    "        self.model_2 = model_2\n",
    "        self.model_3 = model_3\n",
    "    \n",
    "    def fit(self, X, y):\n",
    "        self.model_1.fit(X,y)\n",
    "        self.model_2.fit(X,y)\n",
    "        self.model_3.fit(X,y)\n",
    "        \n",
    "    def predict(self, y):\n",
    "        pred_1 = self.model_1.predict(y)\n",
    "        pred_2 = self.model_2.predict(y)\n",
    "        pred_3 = self.model_3.predict(y)\n",
    "        \n",
    "        final_pred = []\n",
    "        for i in range(len(pred_1)):\n",
    "        \n",
    "            if (pred_1[i] + pred_2[i] + pred_3[i]) >= 2:\n",
    "                final_pred.append(1)\n",
    "            else:\n",
    "                final_pred.append(0)\n",
    "            \n",
    "        return final_pred\n",
    "        "
   ]
  },
  {
   "cell_type": "code",
   "execution_count": 180,
   "metadata": {},
   "outputs": [],
   "source": [
    "x = df_with_dummies.iloc[:,y_indices] #all rows, all the features and no outcome\n",
    "y = df_with_dummies.iloc[:,4] #all rows, outcome only\n",
    "X_train, X_test, y_train, y_test = train_test_split(x,y,test_size=0.2,random_state=4)"
   ]
  },
  {
   "cell_type": "code",
   "execution_count": 181,
   "metadata": {},
   "outputs": [],
   "source": [
    "ensemble = EnsembleLearning(LinearRegression(), LogisticRegression(), DecisionTreeClassifier())\n",
    "ensemble.fit(X_train, y_train)"
   ]
  },
  {
   "cell_type": "code",
   "execution_count": 170,
   "metadata": {},
   "outputs": [],
   "source": [
    "ensemble_pred = ensemble.predict(X_test)"
   ]
  },
  {
   "cell_type": "code",
   "execution_count": 171,
   "metadata": {},
   "outputs": [
    {
     "data": {
      "text/plain": [
       "0.8267314081267569"
      ]
     },
     "execution_count": 171,
     "metadata": {},
     "output_type": "execute_result"
    }
   ],
   "source": [
    "accuracy_score(ensemble_pred, y_test)"
   ]
  },
  {
   "cell_type": "code",
   "execution_count": 185,
   "metadata": {},
   "outputs": [],
   "source": [
    "ensemble_roc = roc_auc_score(ensemble_pred, y_test)"
   ]
  },
  {
   "cell_type": "markdown",
   "metadata": {},
   "source": [
    "The ensemble prediction had about a 2% higher accuracy than each model alone. It had a much higher ROC AUC score as well.  "
   ]
  },
  {
   "cell_type": "code",
   "execution_count": 186,
   "metadata": {},
   "outputs": [
    {
     "data": {
      "text/plain": [
       "<BarContainer object of 5 artists>"
      ]
     },
     "execution_count": 186,
     "metadata": {},
     "output_type": "execute_result"
    },
    {
     "data": {
      "image/png": "[encoded data removed]",
      "text/plain": [
       "<Figure size 432x288 with 1 Axes>"
      ]
     },
     "metadata": {},
     "output_type": "display_data"
    }
   ],
   "source": [
    "labels = ['Linear Regression', 'Logistic Regression', 'Decision Tree', 'Ensemble', 'Grid Seearch']\n",
    "plt.xticks(rotation='vertical')\n",
    "plt.xlabel('Algorithms')\n",
    "plt.ylabel('ROC AUC')\n",
    "plt.bar(labels,[lr_roc,log_roc,tree_roc, ensemble_roc,grid_search_roc])"
   ]
  }
 ],
 "metadata": {
  "kernelspec": {
   "display_name": "Python 3",
   "language": "python",
   "name": "python3"
  },
  "language_info": {
   "codemirror_mode": {
    "name": "ipython",
    "version": 3
   },
   "file_extension": ".py",
   "mimetype": "text/x-python",
   "name": "python",
   "nbconvert_exporter": "python",
   "pygments_lexer": "ipython3",
   "version": "3.5.1"
  }
 },
 "nbformat": 4,
 "nbformat_minor": 2
}
